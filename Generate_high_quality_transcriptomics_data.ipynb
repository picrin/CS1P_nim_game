{
 "cells": [
  {
   "cell_type": "markdown",
   "metadata": {},
   "source": [
    "# Creating a high quality simulated transcriptomics data (where each feature comes from exactly the same distribution)"
   ]
  },
  {
   "cell_type": "code",
   "execution_count": 1,
   "metadata": {
    "collapsed": true
   },
   "outputs": [],
   "source": [
    "import random\n",
    "import sklearn.metrics\n",
    "import math\n",
    "import numpy as np\n",
    "import scipy\n",
    "import matplotlib.pyplot as plt\n",
    "%matplotlib inline"
   ]
  },
  {
   "cell_type": "markdown",
   "metadata": {},
   "source": [
    "## Take a sequence, sort it, and produce a slightly distorted version of the sorted sequence"
   ]
  },
  {
   "cell_type": "code",
   "execution_count": 2,
   "metadata": {
    "collapsed": true
   },
   "outputs": [],
   "source": [
    "def partial_random(effect_sequence, intended_r2, reverse=False):\n",
    "    effect_sequence = sorted(effect_sequence)\n",
    "    if reverse:\n",
    "        effect_sequence = effect_sequence[::-1]\n",
    "    result = effect_sequence[:]\n",
    "    count = 0\n",
    "    while sklearn.metrics.r2_score(effect_sequence, result) > intended_r2:\n",
    "        i = random.randint(0, len(effect_sequence) - 2)\n",
    "        result[i], result[i + 1] = result[i + 1], result[i]\n",
    "        count += 1\n",
    "    return result"
   ]
  },
  {
   "cell_type": "code",
   "execution_count": 3,
   "metadata": {
    "collapsed": true
   },
   "outputs": [],
   "source": [
    "n_people = 30\n",
    "n_genes = 2*10**3\n",
    "n_active_genes = 200"
   ]
  },
  {
   "cell_type": "code",
   "execution_count": 4,
   "metadata": {
    "collapsed": true
   },
   "outputs": [],
   "source": [
    "MAL = sorted([np.random.randint(0, 1200) for i in range(n_people)])"
   ]
  },
  {
   "cell_type": "code",
   "execution_count": 5,
   "metadata": {
    "collapsed": true
   },
   "outputs": [],
   "source": [
    "X = np.matrix(np.random.normal(0, 1, size=(n_people, n_genes)))"
   ]
  },
  {
   "cell_type": "markdown",
   "metadata": {},
   "source": [
    "## Select indices of active genes"
   ]
  },
  {
   "cell_type": "code",
   "execution_count": 6,
   "metadata": {
    "collapsed": true
   },
   "outputs": [],
   "source": [
    "genes_i = list(range(n_genes))\n",
    "random.shuffle(genes_i)\n",
    "active_genes = genes_i[:n_active_genes]"
   ]
  },
  {
   "cell_type": "code",
   "execution_count": 7,
   "metadata": {
    "collapsed": true
   },
   "outputs": [],
   "source": [
    "for i in active_genes:\n",
    "    effect_sequence = X[..., i].reshape(n_people).tolist()[0]\n",
    "    effect_sequence = partial_random(effect_sequence, 0.6, random.randint(0, 1))\n",
    "    X[..., i] = np.array(effect_sequence).reshape(n_people, 1)"
   ]
  },
  {
   "cell_type": "markdown",
   "metadata": {},
   "source": [
    "## Report MAL with an ISE"
   ]
  },
  {
   "cell_type": "code",
   "execution_count": 8,
   "metadata": {
    "collapsed": true
   },
   "outputs": [],
   "source": [
    "reported_MAL = [m + np.random.randint(-400, 400) for m in MAL]"
   ]
  },
  {
   "cell_type": "code",
   "execution_count": 9,
   "metadata": {
    "collapsed": true
   },
   "outputs": [],
   "source": [
    "def original_position(sequence):\n",
    "    elements = sorted(list(zip(sequence, range(len(sequence)))))\n",
    "    positions = [i[1] for i in elements]\n",
    "    sorted_sequence = [i[0] for i in elements]\n",
    "    return sorted_sequence, positions"
   ]
  },
  {
   "cell_type": "code",
   "execution_count": 10,
   "metadata": {
    "collapsed": true
   },
   "outputs": [],
   "source": [
    "sMAL, positions = original_position(reported_MAL)"
   ]
  },
  {
   "cell_type": "code",
   "execution_count": 11,
   "metadata": {},
   "outputs": [
    {
     "data": {
      "text/plain": [
       "True"
      ]
     },
     "execution_count": 11,
     "metadata": {},
     "output_type": "execute_result"
    }
   ],
   "source": [
    "sMAL == [reported_MAL[i] for i in positions]"
   ]
  },
  {
   "cell_type": "code",
   "execution_count": 12,
   "metadata": {
    "collapsed": true
   },
   "outputs": [],
   "source": [
    "actual_MAL = [MAL[i] for i in positions]"
   ]
  },
  {
   "cell_type": "code",
   "execution_count": 13,
   "metadata": {},
   "outputs": [
    {
     "data": {
      "text/plain": [
       "True"
      ]
     },
     "execution_count": 13,
     "metadata": {},
     "output_type": "execute_result"
    }
   ],
   "source": [
    "sorted(list(zip(reported_MAL, MAL))) == sorted(list(zip(sMAL, actual_MAL)))"
   ]
  },
  {
   "cell_type": "code",
   "execution_count": 14,
   "metadata": {
    "collapsed": true
   },
   "outputs": [],
   "source": [
    "X2 = np.vstack([X[i, ...] for i in positions])"
   ]
  },
  {
   "cell_type": "code",
   "execution_count": 15,
   "metadata": {},
   "outputs": [
    {
     "data": {
      "text/plain": [
       "matrix([[-1.15015087, -0.75965684,  0.13794778, ..., -0.6255097 ,\n",
       "         -0.07434755, -1.55334456],\n",
       "        [-1.1928095 , -1.0853519 , -0.46070597, ..., -0.96635693,\n",
       "          0.2287812 , -0.61089988],\n",
       "        [-0.02621516, -0.11780468,  0.75737258, ..., -1.51492611,\n",
       "          1.38991152, -1.03477708],\n",
       "        ...,\n",
       "        [-1.5870917 ,  0.98372078, -1.98599589, ...,  0.43793277,\n",
       "          0.40086043,  0.22933901],\n",
       "        [ 1.23638284,  1.38143956,  0.85478882, ...,  0.75797459,\n",
       "         -1.11147832,  0.79768325],\n",
       "        [-0.34803761, -0.98688069,  0.18775051, ...,  2.45565671,\n",
       "          0.36183709,  0.03927393]])"
      ]
     },
     "execution_count": 15,
     "metadata": {},
     "output_type": "execute_result"
    }
   ],
   "source": [
    "X2"
   ]
  },
  {
   "cell_type": "code",
   "execution_count": 16,
   "metadata": {},
   "outputs": [
    {
     "data": {
      "text/plain": [
       "(30, 2000)"
      ]
     },
     "execution_count": 16,
     "metadata": {},
     "output_type": "execute_result"
    }
   ],
   "source": [
    "X2.shape"
   ]
  },
  {
   "cell_type": "code",
   "execution_count": 17,
   "metadata": {
    "collapsed": true
   },
   "outputs": [],
   "source": [
    "import sys"
   ]
  },
  {
   "cell_type": "code",
   "execution_count": 18,
   "metadata": {
    "collapsed": true
   },
   "outputs": [],
   "source": [
    "with open(\"generated_data\", \"w\") as f:\n",
    "    print(\"IDs\", end=\"\\t\", file=f)\n",
    "    for i in range(n_people):\n",
    "        print(\"pid{}\".format(i), end=\"\\t\", file=f)\n",
    "    print(\"\", file=f)\n",
    "    print(\"ModalAllele\", end=\"\\t\", file=f)\n",
    "    for m in sMAL:\n",
    "        print(m, end=\"\\t\", file=f)\n",
    "    print(file=f)\n",
    "    print(\"ActualMAL\", end=\"\\t\", file=f)\n",
    "    for a in actual_MAL:\n",
    "        print(a, end=\"\\t\", file=f)\n",
    "    print(file=f)\n",
    "    print(\"Affymetrix\", end=\"\\t\", file = f)\n",
    "    for a in active_genes:\n",
    "        print(\"id{}\".format(a), end=\"\\t\", file=f)\n",
    "    print(file=f)\n",
    "    for i in range(n_genes):\n",
    "        print(\"id{}\".format(i), end = \"\\t\", file=f)\n",
    "        for elem in X2[..., i].flatten().tolist()[0]:\n",
    "            print(elem, end = \"\\t\", file=f)\n",
    "        print(file=f)"
   ]
  },
  {
   "cell_type": "markdown",
   "metadata": {},
   "source": [
    "# Debugging"
   ]
  },
  {
   "cell_type": "code",
   "execution_count": 19,
   "metadata": {
    "collapsed": true
   },
   "outputs": [],
   "source": [
    "results = []\n",
    "for i in range(n_genes):\n",
    "    r, p = scipy.stats.pearsonr(sMAL, X2[..., i].reshape(n_people).tolist()[0])\n",
    "    results.append((p, r))"
   ]
  },
  {
   "cell_type": "code",
   "execution_count": 20,
   "metadata": {
    "collapsed": true
   },
   "outputs": [],
   "source": [
    "just_active = []\n",
    "for i in active_genes:\n",
    "    r, p = scipy.stats.pearsonr(sMAL, X2[..., i].reshape(n_people).tolist()[0])\n",
    "    just_active.append((p, r))"
   ]
  },
  {
   "cell_type": "code",
   "execution_count": 21,
   "metadata": {
    "collapsed": true
   },
   "outputs": [],
   "source": [
    "just_active.sort()"
   ]
  },
  {
   "cell_type": "code",
   "execution_count": 22,
   "metadata": {},
   "outputs": [
    {
     "data": {
      "text/plain": [
       "<matplotlib.collections.PathCollection at 0x7f789865ce80>"
      ]
     },
     "execution_count": 22,
     "metadata": {},
     "output_type": "execute_result"
    },
    {
     "data": {
      "image/png": "[encoded data removed]",
      "text/plain": [
       "<Figure size 432x288 with 1 Axes>"
      ]
     },
     "metadata": {},
     "output_type": "display_data"
    }
   ],
   "source": [
    "plt.scatter(X[..., active_genes[1]].reshape(-1).tolist()[0], actual_MAL)"
   ]
  },
  {
   "cell_type": "code",
   "execution_count": 23,
   "metadata": {},
   "outputs": [
    {
     "data": {
      "text/plain": [
       "<matplotlib.collections.PathCollection at 0x7f78985cc438>"
      ]
     },
     "execution_count": 23,
     "metadata": {},
     "output_type": "execute_result"
    },
    {
     "data": {
      "image/png": "[encoded data removed]",
      "text/plain": [
       "<Figure size 432x288 with 1 Axes>"
      ]
     },
     "metadata": {},
     "output_type": "display_data"
    }
   ],
   "source": [
    "plt.scatter(X[..., active_genes[1]].reshape(-1).tolist()[0], reported_MAL)"
   ]
  },
  {
   "cell_type": "code",
   "execution_count": 24,
   "metadata": {},
   "outputs": [
    {
     "data": {
      "text/plain": [
       "[(1.086725480728821e-08, -0.8334118558972995),\n",
       " (1.6602969904150338e-08, -0.8278434474802168),\n",
       " (2.022167877113086e-08, -0.8251837618908741),\n",
       " (4.2798920753302365e-08, -0.8146502583736298),\n",
       " (6.015951132029966e-08, 0.8096371748640055),\n",
       " (8.425979043831629e-08, -0.804528571387706),\n",
       " (8.643686684422215e-08, -0.8041356067227098),\n",
       " (8.854531928589225e-08, -0.8037635447363279),\n",
       " (8.860969032486703e-08, -0.8037523133488502),\n",
       " (8.95229621529084e-08, 0.8035937636217075),\n",
       " (1.1146134589330084e-07, 0.800170358661601),\n",
       " (1.1149431702450853e-07, -0.8001656944601258),\n",
       " (1.1739022041156578e-07, 0.7993512102510283),\n",
       " (1.4297418549464326e-07, 0.796200505022137),\n",
       " (1.568063646863547e-07, -0.7947057733395066),\n",
       " (2.0962974253292269e-07, -0.7899259435528129),\n",
       " (2.33404053154467e-07, 0.7881257724087116),\n",
       " (2.7821404890296997e-07, 0.7851454474651205),\n",
       " (3.254054457479665e-07, -0.782446622053187),\n",
       " (3.825093827733902e-07, -0.7796214966320887),\n",
       " (4.0994540109344736e-07, 0.7783984294471624),\n",
       " (5.040642377851687e-07, 0.7747033090210825),\n",
       " (5.435814236736314e-07, -0.7733365405348889),\n",
       " (5.952542911453529e-07, -0.7716796073469806),\n",
       " (6.71770103002521e-07, 0.7694517008401701),\n",
       " (7.013179768372597e-07, -0.7686526932805245),\n",
       " (7.560812672263908e-07, 0.767249477701367),\n",
       " (7.570886101343186e-07, -0.7672245419990573),\n",
       " (7.714898822411004e-07, 0.766871310026887),\n",
       " (8.228861908268549e-07, 0.7656576740797586),\n",
       " (8.424509001795828e-07, -0.7652137139410524),\n",
       " (8.554172093727808e-07, 0.7649246138639748),\n",
       " (8.570531073575338e-07, 0.7648884225741089),\n",
       " (8.883779767136958e-07, -0.7642072453114274),\n",
       " (9.11716805058986e-07, -0.7637137627209851),\n",
       " (9.176032926915622e-07, -0.7635911092952115),\n",
       " (9.600249712585263e-07, 0.7627277366250458),\n",
       " (1.044468281248432e-06, -0.7611075626619196),\n",
       " (1.1819192918372017e-06, 0.758708596992554),\n",
       " (1.1849044251396225e-06, -0.7586593635867324),\n",
       " (1.2129605811473635e-06, 0.7582020566097543),\n",
       " (1.2195239366841861e-06, -0.7580964619048305),\n",
       " (1.2791116851988462e-06, -0.7571606823147168),\n",
       " (1.6545643986847605e-06, -0.7520397173262278),\n",
       " (1.921600357594102e-06, 0.7490055143272689),\n",
       " (2.103181454654741e-06, -0.7471536838137504),\n",
       " (2.179912162118728e-06, 0.7464143916560679),\n",
       " (2.2940116612737105e-06, 0.7453575063501064),\n",
       " (2.332720246288765e-06, -0.745009752943002),\n",
       " (2.6061978201993863e-06, -0.7426918936806498),\n",
       " (2.721735470667233e-06, 0.7417782871023684),\n",
       " (2.7748588632089536e-06, -0.7413699442554766),\n",
       " (2.8590255635084232e-06, 0.7407372413146366),\n",
       " (2.8882347696100797e-06, 0.7405216035923414),\n",
       " (2.9401271237528503e-06, 0.7401433278201925),\n",
       " (3.006358442911448e-06, 0.7396692059854338),\n",
       " (3.0888302312687645e-06, -0.7390918621313175),\n",
       " (3.1004818143869447e-06, 0.7390114223520359),\n",
       " (3.224005630701898e-06, -0.7381750572984446),\n",
       " (3.280249739925854e-06, -0.7378038012334825),\n",
       " (3.3550854970516403e-06, 0.7373186527544175),\n",
       " (3.377460098077459e-06, -0.7371755020267964),\n",
       " (3.6837040066649314e-06, 0.7352978188730526),\n",
       " (3.6855009724521833e-06, -0.7352872240976936),\n",
       " (3.7477868508472674e-06, -0.7349228474954531),\n",
       " (3.833059218797849e-06, -0.7344327773144533),\n",
       " (4.1149515971415655e-06, 0.7328800117546954),\n",
       " (4.19752864706771e-06, 0.7324433580176309),\n",
       " (4.257846609609552e-06, 0.7321292864376652),\n",
       " (4.522259854082104e-06, -0.7307982756737542),\n",
       " (4.560913714836488e-06, 0.7306096227003361),\n",
       " (4.652245977462501e-06, 0.7301695448468519),\n",
       " (4.751852802282474e-06, 0.7296984073118544),\n",
       " (4.7972751118099e-06, 0.7294865164446153),\n",
       " (4.911512544762252e-06, 0.7289615147929787),\n",
       " (5.505655794065947e-06, 0.7263969848780895),\n",
       " (5.628263618042433e-06, -0.7258990772382569),\n",
       " (5.8567683949584355e-06, -0.7249967043507732),\n",
       " (6.236462699651414e-06, 0.723565279929555),\n",
       " (6.418717687721358e-06, 0.7229059346223751),\n",
       " (7.285869339477814e-06, 0.719983246455043),\n",
       " (7.328599175926439e-06, 0.7198474976741681),\n",
       " (7.969357842282247e-06, 0.7178931014853915),\n",
       " (8.919625945852265e-06, 0.7152409774402758),\n",
       " (8.943813386399244e-06, 0.715176858962998),\n",
       " (8.957118614984543e-06, -0.7151416547420837),\n",
       " (9.138882953365356e-06, 0.7146653871231651),\n",
       " (9.941181258499787e-06, 0.7126601753008261),\n",
       " (1.0350600254312407e-05, -0.7116924998709743),\n",
       " (1.056084930127606e-05, -0.7112088968113321),\n",
       " (1.0707536809668768e-05, 0.7108766043642138),\n",
       " (1.0822569592984199e-05, 0.7106188759451948),\n",
       " (1.1716812831881019e-05, 0.7086954749963306),\n",
       " (1.2410729710640667e-05, 0.7072920068482945),\n",
       " (1.2562660759301227e-05, 0.7069941743048427),\n",
       " (1.2777876033418517e-05, -0.7065777867894834),\n",
       " (1.2841450721060266e-05, 0.7064559934608151),\n",
       " (1.3126111395071913e-05, -0.7059172233789766),\n",
       " (1.3145973994833334e-05, 0.7058800236133391),\n",
       " (1.3194774583380248e-05, -0.7057888415652598),\n",
       " (1.3674233316157566e-05, -0.7049087781486085),\n",
       " (1.4454500823989328e-05, -0.7035342388425501),\n",
       " (1.4577873314226975e-05, 0.7033230435918277),\n",
       " (1.5089661492236005e-05, -0.7024637615961391),\n",
       " (1.5247223340760357e-05, 0.7022044945357147),\n",
       " (1.6105049230935886e-05, 0.7008338482415075),\n",
       " (1.7797286044412456e-05, -0.698312302008813),\n",
       " (1.9062646302406692e-05, 0.6965640429495061),\n",
       " (1.9070490220752367e-05, -0.6965535348156257),\n",
       " (1.9132838298916946e-05, 0.6964701478318166),\n",
       " (1.932911409428583e-05, -0.6962092250693244),\n",
       " (1.956979371428783e-05, -0.6958925033384096),\n",
       " (2.0471061970443176e-05, -0.6947367613757137),\n",
       " (2.098304154829932e-05, 0.6941004300503728),\n",
       " (2.1273563592017976e-05, -0.6937455207963749),\n",
       " (2.1597828322704816e-05, -0.6933544952026488),\n",
       " (2.313104198683254e-05, -0.6915741486306684),\n",
       " (2.3166070660051298e-05, -0.6915347262527572),\n",
       " (2.462806118876371e-05, 0.689935271150505),\n",
       " (2.576632204341286e-05, -0.688747955972434),\n",
       " (2.6800155080909754e-05, 0.6877096779842863),\n",
       " (2.6999697953360526e-05, 0.6875134249769449),\n",
       " (2.7114298785952842e-05, 0.6874013010687658),\n",
       " (2.8478784595369886e-05, -0.6860979923549962),\n",
       " (2.9816023960066967e-05, 0.6848739600889799),\n",
       " (3.0092342544026624e-05, 0.6846271869982316),\n",
       " (3.1639553911245715e-05, 0.6832818352263561),\n",
       " (3.171294241843156e-05, 0.6832194980461287),\n",
       " (3.200092887148391e-05, -0.68297612134552),\n",
       " (3.543105878385725e-05, -0.6802189994178627),\n",
       " (3.6922551036709e-05, 0.6790941738159696),\n",
       " (3.9210841649030816e-05, 0.677445160981789),\n",
       " (3.98365491199562e-05, 0.6770092765104475),\n",
       " (3.998531301294469e-05, -0.6769065462125861),\n",
       " (4.0193345986741006e-05, 0.6767634595465033),\n",
       " (4.104819589311739e-05, -0.6761823627444142),\n",
       " (4.151793263519402e-05, -0.6758676496466297),\n",
       " (4.2559334383488276e-05, 0.6751811476676148),\n",
       " (4.353255593059295e-05, -0.6745530510808719),\n",
       " (4.4618665782809674e-05, -0.6738667690139665),\n",
       " (4.5068208108875045e-05, 0.6735870827418744),\n",
       " (4.618049187860132e-05, -0.6729056520663317),\n",
       " (4.839486383667302e-05, 0.671591664938441),\n",
       " (4.979911149688308e-05, -0.6707860009122213),\n",
       " (5.0206448346425687e-05, -0.6705561006518216),\n",
       " (5.04557356617333e-05, -0.6704162248499551),\n",
       " (5.074729903689876e-05, 0.6702534099026914),\n",
       " (5.345260665686503e-05, -0.6687813489487335),\n",
       " (5.3801219652573937e-05, 0.6685965269935185),\n",
       " (5.410735664269746e-05, -0.66843510514531),\n",
       " (5.542340625262162e-05, 0.6677503391905008),\n",
       " (5.841158079565543e-05, -0.6662479604143527),\n",
       " (6.384019659666131e-05, -0.663686212299275),\n",
       " (6.440530833838795e-05, -0.6634308409689263),\n",
       " (6.562730594938737e-05, -0.6628853990291007),\n",
       " (6.61891609333291e-05, 0.6626376517063991),\n",
       " (6.647782931003293e-05, 0.6625110942295516),\n",
       " (6.896120862046278e-05, 0.6614421563931527),\n",
       " (6.962111670018919e-05, -0.6611638919198555),\n",
       " (6.994901181113556e-05, -0.6610265025302726),\n",
       " (7.006518344560708e-05, -0.6609779640584791),\n",
       " (7.029938889966905e-05, 0.6608803271035899),\n",
       " (7.163956941031717e-05, -0.660327146856684),\n",
       " (7.58121787431639e-05, 0.6586620964209046),\n",
       " (8.373133795060049e-05, 0.6557152322358353),\n",
       " (8.426185613409217e-05, -0.6555268286056836),\n",
       " (8.471889515757679e-05, 0.6553653660530335),\n",
       " (8.614248033467902e-05, 0.6548673730954178),\n",
       " (8.674807848450949e-05, -0.6546577470721063),\n",
       " (8.764657716229134e-05, -0.6543491260052666),\n",
       " (8.88307404920018e-05, 0.6539466637113226),\n",
       " (9.222677243789199e-05, 0.6528184205428557),\n",
       " (9.50676120815253e-05, 0.6519027212923553),\n",
       " (9.71335846926953e-05, -0.6512519810746595),\n",
       " (0.00010817934628562848, -0.6479688736963526),\n",
       " (0.00011025876892568265, 0.6473844581054431),\n",
       " (0.00011048955966624939, -0.6473202014110363),\n",
       " (0.00011151513885353203, -0.6470360974660454),\n",
       " (0.00014778639484615332, 0.638236528415925),\n",
       " (0.000148165632924176, 0.6381551783564213),\n",
       " (0.0001543309921307594, 0.6368579571984077),\n",
       " (0.0001554389605865817, -0.6366297305238238),\n",
       " (0.00015689300341080714, -0.6363323999487945),\n",
       " (0.00020325567890811137, -0.6279391470168773),\n",
       " (0.0002121204835784591, 0.6265314864583542),\n",
       " (0.0002157085938504607, 0.6259765082613648),\n",
       " (0.00022939734666649954, -0.6239317417608391),\n",
       " (0.00023775252017807304, -0.622736209539725),\n",
       " (0.00024206009671794197, -0.6221343123411399),\n",
       " (0.0002834030750704163, 0.6167949244467599),\n",
       " (0.00030243412993333826, 0.6145657472009387),\n",
       " (0.000309274344499374, 0.6137947600919499),\n",
       " (0.0003868899335998498, -0.6059640503517969),\n",
       " (0.00046411515780540034, 0.5994455255277293),\n",
       " (0.000500482215774161, -0.5967018325206264),\n",
       " (0.000728317127188063, -0.5826801857721272),\n",
       " (0.0009095690742258606, -0.5740650583279314),\n",
       " (0.0010907454474012063, 0.5668436115919468),\n",
       " (0.0025672362732571514, 0.5304374919955647),\n",
       " (0.004232777574581754, -0.507138168489778)]"
      ]
     },
     "execution_count": 24,
     "metadata": {},
     "output_type": "execute_result"
    }
   ],
   "source": [
    "just_active"
   ]
  },
  {
   "cell_type": "code",
   "execution_count": 25,
   "metadata": {
    "collapsed": true
   },
   "outputs": [],
   "source": [
    "results.sort()"
   ]
  },
  {
   "cell_type": "code",
   "execution_count": 26,
   "metadata": {},
   "outputs": [
    {
     "data": {
      "text/plain": [
       "[(1.086725480728821e-08, -0.8334118558972995),\n",
       " (1.6602969904150338e-08, -0.8278434474802168),\n",
       " (2.022167877113086e-08, -0.8251837618908741),\n",
       " (4.2798920753302365e-08, -0.8146502583736298),\n",
       " (6.015951132029966e-08, 0.8096371748640055),\n",
       " (8.425979043831629e-08, -0.804528571387706),\n",
       " (8.643686684422215e-08, -0.8041356067227098),\n",
       " (8.854531928589225e-08, -0.8037635447363279),\n",
       " (8.860969032486703e-08, -0.8037523133488502),\n",
       " (8.95229621529084e-08, 0.8035937636217075),\n",
       " (1.1146134589330084e-07, 0.800170358661601),\n",
       " (1.1149431702450853e-07, -0.8001656944601258),\n",
       " (1.1739022041156578e-07, 0.7993512102510283),\n",
       " (1.4297418549464326e-07, 0.796200505022137),\n",
       " (1.568063646863547e-07, -0.7947057733395066),\n",
       " (2.0962974253292269e-07, -0.7899259435528129),\n",
       " (2.33404053154467e-07, 0.7881257724087116),\n",
       " (2.7821404890296997e-07, 0.7851454474651205),\n",
       " (3.254054457479665e-07, -0.782446622053187),\n",
       " (3.825093827733902e-07, -0.7796214966320887),\n",
       " (4.0994540109344736e-07, 0.7783984294471624),\n",
       " (5.040642377851687e-07, 0.7747033090210825),\n",
       " (5.435814236736314e-07, -0.7733365405348889),\n",
       " (5.952542911453529e-07, -0.7716796073469806),\n",
       " (6.71770103002521e-07, 0.7694517008401701),\n",
       " (7.013179768372597e-07, -0.7686526932805245),\n",
       " (7.560812672263908e-07, 0.767249477701367),\n",
       " (7.570886101343186e-07, -0.7672245419990573),\n",
       " (7.714898822411004e-07, 0.766871310026887),\n",
       " (8.228861908268549e-07, 0.7656576740797586),\n",
       " (8.424509001795828e-07, -0.7652137139410524),\n",
       " (8.554172093727808e-07, 0.7649246138639748),\n",
       " (8.570531073575338e-07, 0.7648884225741089),\n",
       " (8.883779767136958e-07, -0.7642072453114274),\n",
       " (9.11716805058986e-07, -0.7637137627209851),\n",
       " (9.176032926915622e-07, -0.7635911092952115),\n",
       " (9.600249712585263e-07, 0.7627277366250458),\n",
       " (1.044468281248432e-06, -0.7611075626619196),\n",
       " (1.1819192918372017e-06, 0.758708596992554),\n",
       " (1.1849044251396225e-06, -0.7586593635867324),\n",
       " (1.2129605811473635e-06, 0.7582020566097543),\n",
       " (1.2195239366841861e-06, -0.7580964619048305),\n",
       " (1.2791116851988462e-06, -0.7571606823147168),\n",
       " (1.6545643986847605e-06, -0.7520397173262278),\n",
       " (1.921600357594102e-06, 0.7490055143272689),\n",
       " (2.103181454654741e-06, -0.7471536838137504),\n",
       " (2.179912162118728e-06, 0.7464143916560679),\n",
       " (2.2940116612737105e-06, 0.7453575063501064),\n",
       " (2.332720246288765e-06, -0.745009752943002),\n",
       " (2.6061978201993863e-06, -0.7426918936806498),\n",
       " (2.721735470667233e-06, 0.7417782871023684),\n",
       " (2.7748588632089536e-06, -0.7413699442554766),\n",
       " (2.8590255635084232e-06, 0.7407372413146366),\n",
       " (2.8882347696100797e-06, 0.7405216035923414),\n",
       " (2.9401271237528503e-06, 0.7401433278201925),\n",
       " (3.006358442911448e-06, 0.7396692059854338),\n",
       " (3.0888302312687645e-06, -0.7390918621313175),\n",
       " (3.1004818143869447e-06, 0.7390114223520359),\n",
       " (3.224005630701898e-06, -0.7381750572984446),\n",
       " (3.280249739925854e-06, -0.7378038012334825),\n",
       " (3.3550854970516403e-06, 0.7373186527544175),\n",
       " (3.377460098077459e-06, -0.7371755020267964),\n",
       " (3.6837040066649314e-06, 0.7352978188730526),\n",
       " (3.6855009724521833e-06, -0.7352872240976936),\n",
       " (3.7477868508472674e-06, -0.7349228474954531),\n",
       " (3.833059218797849e-06, -0.7344327773144533),\n",
       " (4.1149515971415655e-06, 0.7328800117546954),\n",
       " (4.19752864706771e-06, 0.7324433580176309),\n",
       " (4.257846609609552e-06, 0.7321292864376652),\n",
       " (4.522259854082104e-06, -0.7307982756737542),\n",
       " (4.560913714836488e-06, 0.7306096227003361),\n",
       " (4.652245977462501e-06, 0.7301695448468519),\n",
       " (4.751852802282474e-06, 0.7296984073118544),\n",
       " (4.7972751118099e-06, 0.7294865164446153),\n",
       " (4.911512544762252e-06, 0.7289615147929787),\n",
       " (5.505655794065947e-06, 0.7263969848780895),\n",
       " (5.628263618042433e-06, -0.7258990772382569),\n",
       " (5.8567683949584355e-06, -0.7249967043507732),\n",
       " (6.236462699651414e-06, 0.723565279929555),\n",
       " (6.418717687721358e-06, 0.7229059346223751),\n",
       " (7.285869339477814e-06, 0.719983246455043),\n",
       " (7.328599175926439e-06, 0.7198474976741681),\n",
       " (7.969357842282247e-06, 0.7178931014853915),\n",
       " (8.919625945852265e-06, 0.7152409774402758),\n",
       " (8.943813386399244e-06, 0.715176858962998),\n",
       " (8.957118614984543e-06, -0.7151416547420837),\n",
       " (9.138882953365356e-06, 0.7146653871231651),\n",
       " (9.941181258499787e-06, 0.7126601753008261),\n",
       " (1.0350600254312407e-05, -0.7116924998709743),\n",
       " (1.056084930127606e-05, -0.7112088968113321),\n",
       " (1.0707536809668768e-05, 0.7108766043642138),\n",
       " (1.0822569592984199e-05, 0.7106188759451948),\n",
       " (1.1716812831881019e-05, 0.7086954749963306),\n",
       " (1.2410729710640667e-05, 0.7072920068482945),\n",
       " (1.2562660759301227e-05, 0.7069941743048427),\n",
       " (1.2777876033418517e-05, -0.7065777867894834),\n",
       " (1.2841450721060266e-05, 0.7064559934608151),\n",
       " (1.3126111395071913e-05, -0.7059172233789766),\n",
       " (1.3145973994833334e-05, 0.7058800236133391),\n",
       " (1.3194774583380248e-05, -0.7057888415652598)]"
      ]
     },
     "execution_count": 26,
     "metadata": {},
     "output_type": "execute_result"
    }
   ],
   "source": [
    "results[:100]"
   ]
  }
 ],
 "metadata": {
  "kernelspec": {
   "display_name": "Python 3 Clinical Applicatoins",
   "language": "python",
   "name": "clinical_applications"
  },
  "language_info": {
   "codemirror_mode": {
    "name": "ipython",
    "version": 3
   },
   "file_extension": ".py",
   "mimetype": "text/x-python",
   "name": "python",
   "nbconvert_exporter": "python",
   "pygments_lexer": "ipython3",
   "version": "3.5.2"
  }
 },
 "nbformat": 4,
 "nbformat_minor": 2
}
