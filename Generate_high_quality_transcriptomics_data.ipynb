{
 "cells": [
  {
   "cell_type": "markdown",
   "metadata": {},
   "source": [
    "# Creating a high quality simulated transcriptomics data (where each feature comes from exactly the same distribution)"
   ]
  },
  {
   "cell_type": "code",
   "execution_count": 27,
   "metadata": {
    "collapsed": true
   },
   "outputs": [],
   "source": [
    "import random\n",
    "import sklearn.metrics\n",
    "import math\n",
    "import numpy as np\n",
    "import scipy\n",
    "import matplotlib.pyplot as plt\n",
    "%matplotlib inline"
   ]
  },
  {
   "cell_type": "markdown",
   "metadata": {},
   "source": [
    "## Take a sequence, sort it, and produce a slightly distorted version of the sorted sequence"
   ]
  },
  {
   "cell_type": "code",
   "execution_count": 28,
   "metadata": {
    "collapsed": true
   },
   "outputs": [],
   "source": [
    "def partial_random(effect_sequence, intended_r2, reverse=False):\n",
    "    effect_sequence = sorted(effect_sequence)\n",
    "    if reverse:\n",
    "        effect_sequence = effect_sequence[::-1]\n",
    "    result = effect_sequence[:]\n",
    "    count = 0\n",
    "    while sklearn.metrics.r2_score(effect_sequence, result) > intended_r2:\n",
    "        i = random.randint(0, len(effect_sequence) - 2)\n",
    "        result[i], result[i + 1] = result[i + 1], result[i]\n",
    "        count += 1\n",
    "    return result"
   ]
  },
  {
   "cell_type": "code",
   "execution_count": 29,
   "metadata": {
    "collapsed": true
   },
   "outputs": [],
   "source": [
    "n_people = 30\n",
    "n_genes = 2*10**3\n",
    "n_active_genes = 200"
   ]
  },
  {
   "cell_type": "code",
   "execution_count": 30,
   "metadata": {
    "collapsed": true
   },
   "outputs": [],
   "source": [
    "MAL = sorted([np.random.randint(0, 1200) for i in range(n_people)])"
   ]
  },
  {
   "cell_type": "code",
   "execution_count": 31,
   "metadata": {
    "collapsed": true
   },
   "outputs": [],
   "source": [
    "X = np.matrix(np.random.normal(0, 1, size=(n_people, n_genes)))"
   ]
  },
  {
   "cell_type": "markdown",
   "metadata": {},
   "source": [
    "## Select indices of active genes"
   ]
  },
  {
   "cell_type": "code",
   "execution_count": 32,
   "metadata": {
    "collapsed": true
   },
   "outputs": [],
   "source": [
    "genes_i = list(range(n_genes))\n",
    "random.shuffle(genes_i)\n",
    "active_genes = genes_i[:n_active_genes]"
   ]
  },
  {
   "cell_type": "code",
   "execution_count": 33,
   "metadata": {
    "collapsed": true
   },
   "outputs": [],
   "source": [
    "for i in active_genes:\n",
    "    effect_sequence = X[..., i].reshape(n_people).tolist()[0]\n",
    "    effect_sequence = partial_random(effect_sequence, 0.6, random.randint(0, 1))\n",
    "    X[..., i] = np.array(effect_sequence).reshape(n_people, 1)"
   ]
  },
  {
   "cell_type": "markdown",
   "metadata": {},
   "source": [
    "## Report MAL with an ISE"
   ]
  },
  {
   "cell_type": "code",
   "execution_count": 45,
   "metadata": {
    "collapsed": true
   },
   "outputs": [],
   "source": [
    "reported_MAL = [m + np.random.randint(-600, 600) for m in MAL]"
   ]
  },
  {
   "cell_type": "code",
   "execution_count": 46,
   "metadata": {
    "collapsed": true
   },
   "outputs": [],
   "source": [
    "def original_position(sequence):\n",
    "    elements = sorted(list(zip(sequence, range(len(sequence)))))\n",
    "    positions = [i[1] for i in elements]\n",
    "    sorted_sequence = [i[0] for i in elements]\n",
    "    return sorted_sequence, positions"
   ]
  },
  {
   "cell_type": "code",
   "execution_count": 47,
   "metadata": {
    "collapsed": true
   },
   "outputs": [],
   "source": [
    "sMAL, positions = original_position(reported_MAL)"
   ]
  },
  {
   "cell_type": "code",
   "execution_count": 48,
   "metadata": {},
   "outputs": [
    {
     "data": {
      "text/plain": [
       "True"
      ]
     },
     "execution_count": 48,
     "metadata": {},
     "output_type": "execute_result"
    }
   ],
   "source": [
    "sMAL == [reported_MAL[i] for i in positions]"
   ]
  },
  {
   "cell_type": "code",
   "execution_count": 49,
   "metadata": {
    "collapsed": true
   },
   "outputs": [],
   "source": [
    "actual_MAL = [MAL[i] for i in positions]"
   ]
  },
  {
   "cell_type": "code",
   "execution_count": 50,
   "metadata": {},
   "outputs": [
    {
     "data": {
      "text/plain": [
       "True"
      ]
     },
     "execution_count": 50,
     "metadata": {},
     "output_type": "execute_result"
    }
   ],
   "source": [
    "sorted(list(zip(reported_MAL, MAL))) == sorted(list(zip(sMAL, actual_MAL)))"
   ]
  },
  {
   "cell_type": "code",
   "execution_count": 51,
   "metadata": {
    "collapsed": true
   },
   "outputs": [],
   "source": [
    "X2 = np.vstack([X[i, ...] for i in positions])"
   ]
  },
  {
   "cell_type": "code",
   "execution_count": 52,
   "metadata": {},
   "outputs": [
    {
     "data": {
      "text/plain": [
       "matrix([[ 1.54039741e+00,  8.96001159e-01, -1.42071561e+00, ...,\n",
       "         -3.64763564e-01,  6.65060292e-01, -1.73603375e+00],\n",
       "        [ 1.68491461e-01, -7.81172885e-01,  2.45681329e+00, ...,\n",
       "         -5.65464265e-01,  1.07305975e-01, -2.19121669e+00],\n",
       "        [-2.43378967e+00,  1.28650537e+00,  8.70695613e-01, ...,\n",
       "         -5.85870307e-01, -3.35328765e-01, -7.35400597e-01],\n",
       "        ...,\n",
       "        [-7.61130747e-01,  1.18621019e-01,  5.79369144e-01, ...,\n",
       "         -1.07050410e+00, -1.17659755e+00,  1.17681215e+00],\n",
       "        [ 6.17030553e-01, -6.66066593e-02, -4.41792108e-01, ...,\n",
       "          8.20716172e-01, -3.09113448e-01,  1.35860839e+00],\n",
       "        [-1.21776287e+00, -2.03052882e+00,  1.36654778e-03, ...,\n",
       "          2.07430156e+00,  1.14657129e+00,  2.93578832e-01]])"
      ]
     },
     "execution_count": 52,
     "metadata": {},
     "output_type": "execute_result"
    }
   ],
   "source": [
    "X2"
   ]
  },
  {
   "cell_type": "code",
   "execution_count": 53,
   "metadata": {},
   "outputs": [
    {
     "data": {
      "text/plain": [
       "(30, 2000)"
      ]
     },
     "execution_count": 53,
     "metadata": {},
     "output_type": "execute_result"
    }
   ],
   "source": [
    "X2.shape"
   ]
  },
  {
   "cell_type": "code",
   "execution_count": 54,
   "metadata": {
    "collapsed": true
   },
   "outputs": [],
   "source": [
    "import sys"
   ]
  },
  {
   "cell_type": "code",
   "execution_count": 55,
   "metadata": {
    "collapsed": true
   },
   "outputs": [],
   "source": [
    "with open(\"generated_data\", \"w\") as f:\n",
    "    print(\"IDs\", end=\"\\t\", file=f)\n",
    "    for i in range(n_people):\n",
    "        print(\"pid{}\".format(i), end=\"\\t\", file=f)\n",
    "    print(\"\", file=f)\n",
    "    print(\"ModalAllele\", end=\"\\t\", file=f)\n",
    "    for m in sMAL:\n",
    "        print(m, end=\"\\t\", file=f)\n",
    "    print(file=f)\n",
    "    print(\"ActualMAL\", end=\"\\t\", file=f)\n",
    "    for a in actual_MAL:\n",
    "        print(a, end=\"\\t\", file=f)\n",
    "    print(file=f)\n",
    "    print(\"Affymetrix\", end=\"\\t\", file = f)\n",
    "    for a in active_genes:\n",
    "        print(\"id{}\".format(a), end=\"\\t\", file=f)\n",
    "    print(file=f)\n",
    "    for i in range(n_genes):\n",
    "        print(\"id{}\".format(i), end = \"\\t\", file=f)\n",
    "        for elem in X2[..., i].flatten().tolist()[0]:\n",
    "            print(elem, end = \"\\t\", file=f)\n",
    "        print(file=f)"
   ]
  },
  {
   "cell_type": "markdown",
   "metadata": {},
   "source": [
    "# Debugging"
   ]
  },
  {
   "cell_type": "code",
   "execution_count": 19,
   "metadata": {
    "collapsed": true
   },
   "outputs": [],
   "source": [
    "results = []\n",
    "for i in range(n_genes):\n",
    "    r, p = scipy.stats.pearsonr(sMAL, X2[..., i].reshape(n_people).tolist()[0])\n",
    "    results.append((p, r))"
   ]
  },
  {
   "cell_type": "code",
   "execution_count": 20,
   "metadata": {
    "collapsed": true
   },
   "outputs": [],
   "source": [
    "just_active = []\n",
    "for i in active_genes:\n",
    "    r, p = scipy.stats.pearsonr(sMAL, X2[..., i].reshape(n_people).tolist()[0])\n",
    "    just_active.append((p, r))"
   ]
  },
  {
   "cell_type": "code",
   "execution_count": 21,
   "metadata": {
    "collapsed": true
   },
   "outputs": [],
   "source": [
    "just_active.sort()"
   ]
  },
  {
   "cell_type": "code",
   "execution_count": 22,
   "metadata": {},
   "outputs": [
    {
     "data": {
      "text/plain": [
       "<matplotlib.collections.PathCollection at 0x7ff37a0abbe0>"
      ]
     },
     "execution_count": 22,
     "metadata": {},
     "output_type": "execute_result"
    },
    {
     "data": {
      "image/png": "[encoded data removed]",
      "text/plain": [
       "<Figure size 432x288 with 1 Axes>"
      ]
     },
     "metadata": {},
     "output_type": "display_data"
    }
   ],
   "source": [
    "plt.scatter(X[..., active_genes[1]].reshape(-1).tolist()[0], actual_MAL)"
   ]
  },
  {
   "cell_type": "code",
   "execution_count": 23,
   "metadata": {},
   "outputs": [
    {
     "data": {
      "text/plain": [
       "<matplotlib.collections.PathCollection at 0x7ff37a08fb70>"
      ]
     },
     "execution_count": 23,
     "metadata": {},
     "output_type": "execute_result"
    },
    {
     "data": {
      "image/png": "[encoded data removed]",
      "text/plain": [
       "<Figure size 432x288 with 1 Axes>"
      ]
     },
     "metadata": {},
     "output_type": "display_data"
    }
   ],
   "source": [
    "plt.scatter(X[..., active_genes[1]].reshape(-1).tolist()[0], reported_MAL)"
   ]
  },
  {
   "cell_type": "code",
   "execution_count": 24,
   "metadata": {},
   "outputs": [
    {
     "data": {
      "text/plain": [
       "[(3.5370835129503325e-10, -0.8718676963127268),\n",
       " (9.138368787377031e-10, -0.8622724592628433),\n",
       " (1.4126697576885226e-09, -0.8576140460070591),\n",
       " (3.6752400912950025e-09, -0.8467829420244106),\n",
       " (6.103294258402352e-09, -0.8406784195804029),\n",
       " (6.4150186559751475e-09, 0.8400648116580381),\n",
       " (9.127947224684963e-09, 0.8356459913681905),\n",
       " (1.7214075734986736e-08, -0.8273592122961843),\n",
       " (2.0447988375026628e-08, -0.8250323014306228),\n",
       " (2.130075173633953e-08, -0.8244750234735947),\n",
       " (2.270138583116024e-08, -0.8236025276860022),\n",
       " (2.897380752406082e-08, 0.8202157235054452),\n",
       " (2.9316094957442232e-08, 0.8200508900049035),\n",
       " (3.4937715892275085e-08, 0.8175688178286115),\n",
       " (3.852093445453065e-08, -0.8161711103055779),\n",
       " (3.963487890322732e-08, -0.8157607800583055),\n",
       " (4.668033696319824e-08, -0.8133861393216132),\n",
       " (4.7618461165667966e-08, 0.8130950543245277),\n",
       " (5.1974224393562766e-08, 0.8118086223794148),\n",
       " (5.410052637366872e-08, 0.8112160441078389),\n",
       " (5.449850197429316e-08, 0.811107501465054),\n",
       " (5.787814654624251e-08, 0.8102138526810393),\n",
       " (7.149791140060867e-08, -0.807037698817117),\n",
       " (7.225871843809647e-08, 0.8068770726064483),\n",
       " (8.412536731663238e-08, -0.8045531374969599),\n",
       " (9.630550426716846e-08, 0.8024604138547936),\n",
       " (1.0174907984193527e-07, 0.8016023149030529),\n",
       " (1.1272423905133328e-07, -0.7999925982344189),\n",
       " (1.1696701082787007e-07, -0.7994084168181785),\n",
       " (1.1961532362690108e-07, 0.7990534951158618),\n",
       " (1.2961639839250332e-07, 0.7977747911994089),\n",
       " (1.4906033658689106e-07, -0.7955272732328973),\n",
       " (1.7641109148190938e-07, -0.7927811488661436),\n",
       " (2.0063331989467647e-07, -0.7906560264107276),\n",
       " (2.2691933820897838e-07, 0.7885995951673781),\n",
       " (2.315176979190268e-07, -0.7882623546452038),\n",
       " (2.508570081529534e-07, 0.786907671709808),\n",
       " (2.5126242570111426e-07, 0.7868803044147862),\n",
       " (2.710960137331894e-07, 0.7855882326802247),\n",
       " (2.963575086727789e-07, -0.7840618148121236),\n",
       " (3.0002684275459884e-07, 0.7838500281460649),\n",
       " (3.375807493395515e-07, -0.7818083821488797),\n",
       " (3.388627484751411e-07, -0.7817424027346642),\n",
       " (3.425097770121716e-07, -0.781555939210056),\n",
       " (3.489132609187111e-07, -0.7812328727942538),\n",
       " (3.829239536496353e-07, 0.7796024295966355),\n",
       " (4.2257926171913916e-07, -0.7778600881292825),\n",
       " (4.486714887782254e-07, -0.7767931039043424),\n",
       " (4.726502125692567e-07, -0.7758611887479538),\n",
       " (4.90748840719778e-07, 0.7751858527641611),\n",
       " (4.997013233114114e-07, 0.7748601291469301),\n",
       " (5.189910191492796e-07, -0.7741759575090835),\n",
       " (6.327741687789381e-07, -0.7705565498588536),\n",
       " (6.364641625856359e-07, -0.7704493918949876),\n",
       " (6.386607096358877e-07, 0.7703858715671849),\n",
       " (7.016211902187405e-07, 0.7686446537678485),\n",
       " (7.283246617004287e-07, -0.7679487153229007),\n",
       " (7.893010418425243e-07, -0.766442632076313),\n",
       " (7.918490754102253e-07, -0.7663820259278281),\n",
       " (8.076598437462578e-07, 0.7660098711826384),\n",
       " (8.162886708882303e-07, 0.7658095470161128),\n",
       " (8.612416399348571e-07, -0.764796043945155),\n",
       " (8.854451841713753e-07, -0.7642700873147219),\n",
       " (9.452535230015607e-07, -0.7630243659227818),\n",
       " (9.727616274415473e-07, 0.7624752760371821),\n",
       " (1.0605187368644133e-06, 0.7608131285526344),\n",
       " (1.078442129117422e-06, 0.7604890780775255),\n",
       " (1.1094595040519646e-06, 0.7599396652611461),\n",
       " (1.1240793918831228e-06, -0.7596855194479182),\n",
       " (1.1372810286244792e-06, 0.7594585916516398),\n",
       " (1.1628085696744275e-06, 0.7590264869334197),\n",
       " (1.1693465291552174e-06, -0.7589172038585208),\n",
       " (1.1761950042521608e-06, 0.7588033232955614),\n",
       " (1.2686411001355143e-06, 0.7573222111477519),\n",
       " (1.3211192456702345e-06, -0.756524463847808),\n",
       " (1.3223512082516038e-06, -0.7565060837534323),\n",
       " (1.3935766057181722e-06, -0.7554689823635563),\n",
       " (1.4268813953680936e-06, 0.755000437030812),\n",
       " (1.4395017450772973e-06, 0.7548254761501952),\n",
       " (1.4600363252506673e-06, -0.7545437476882625),\n",
       " (1.4971686397094016e-06, 0.7540433029074708),\n",
       " (1.5051574675185362e-06, 0.7539371074111229),\n",
       " (1.5317263829995525e-06, -0.7535875652113542),\n",
       " (1.6629811466133582e-06, 0.7519375142287202),\n",
       " (1.9134951740805635e-06, 0.7490918185656622),\n",
       " (2.010420914541224e-06, 0.7480807604063734),\n",
       " (2.0317500230607406e-06, 0.7478642115802618),\n",
       " (2.2524063571983695e-06, -0.7457372588600021),\n",
       " (2.333433860125134e-06, 0.7450033911097179),\n",
       " (2.6132119221811504e-06, 0.7426353949897692),\n",
       " (2.665201838363925e-06, -0.7422208434309744),\n",
       " (2.694251072235469e-06, 0.741992390479002),\n",
       " (2.776783707963903e-06, -0.741355281801145),\n",
       " (2.7775470477249274e-06, 0.7413494696275293),\n",
       " (2.863593535313257e-06, 0.7407033870216416),\n",
       " (2.8772068995254614e-06, 0.7406027842671501),\n",
       " (2.980786117677198e-06, -0.7398511367118905),\n",
       " (3.0764247335217906e-06, 0.7391778090401969),\n",
       " (3.0863773102776467e-06, -0.7391088314894364),\n",
       " (3.2700526793483887e-06, -0.7378706804714183),\n",
       " (3.27810660766888e-06, 0.7378178417251091),\n",
       " (3.290295200471197e-06, -0.7377380999097626),\n",
       " (3.344715374247744e-06, -0.7373852929234594),\n",
       " (3.435998030485603e-06, 0.7368049994355337),\n",
       " (3.6153017506186616e-06, -0.7357046290835098),\n",
       " (3.716401506899274e-06, -0.7351057637662667),\n",
       " (3.7426127116468977e-06, -0.7349529072209016),\n",
       " (3.984167684104103e-06, 0.7335880539215199),\n",
       " (4.061178642548773e-06, 0.7331686319543936),\n",
       " (4.085316956917541e-06, 0.7330386476856904),\n",
       " (4.2310594111808935e-06, -0.7322682659547047),\n",
       " (4.383455021085074e-06, -0.7314879527161908),\n",
       " (4.8361809357097665e-06, 0.7293064604940486),\n",
       " (5.117268079305929e-06, -0.7280431438184117),\n",
       " (5.295330845541928e-06, -0.7272749120311321),\n",
       " (5.310730777690756e-06, -0.7272095716433047),\n",
       " (5.399708251093491e-06, -0.7268353657591698),\n",
       " (5.5362940886151894e-06, 0.7262716322109461),\n",
       " (5.69774396135438e-06, 0.7256212499120992),\n",
       " (5.926305009840674e-06, -0.7247284078898165),\n",
       " (6.0129869757660224e-06, -0.7243979097740822),\n",
       " (6.0611649314195494e-06, 0.7242160733757074),\n",
       " (6.272891530039197e-06, 0.7234321129156414),\n",
       " (6.476176367428446e-06, -0.7227015673818288),\n",
       " (6.628804012346381e-06, 0.7221665477950159),\n",
       " (6.650514627771098e-06, -0.7220913486181173),\n",
       " (6.767365046299743e-06, -0.7216903779422997),\n",
       " (6.861932757014634e-06, -0.7213704179200765),\n",
       " (7.824294366424352e-06, 0.7183228149500461),\n",
       " (8.50956329421175e-06, -0.7163525710067206),\n",
       " (8.596762025781411e-06, -0.7161122118611479),\n",
       " (8.775904819206642e-06, -0.715625231786905),\n",
       " (9.2901336070345e-06, -0.7142755368599216),\n",
       " (9.303518878548955e-06, -0.7142413122559172),\n",
       " (9.87134709883283e-06, -0.7128288044629486),\n",
       " (9.923186752552677e-06, 0.7127035244695602),\n",
       " (1.0051365046125614e-05, 0.7123962715950256),\n",
       " (1.0270479423031464e-05, 0.7118791207545501),\n",
       " (1.0383355388734487e-05, 0.7116165797419031),\n",
       " (1.0727038227281352e-05, -0.7108327368573413),\n",
       " (1.1114953771267149e-05, -0.7099747357860031),\n",
       " (1.113218519769036e-05, 0.7099372519393862),\n",
       " (1.1753425196435938e-05, 0.7086195786909535),\n",
       " (1.1755059729419398e-05, 0.7086161953206099),\n",
       " (1.2677887701417813e-05, 0.7067704476078093),\n",
       " (1.3251759223865987e-05, -0.7056827512538861),\n",
       " (1.3337501931380176e-05, -0.7055238921236463),\n",
       " (1.3604597675689602e-05, 0.7050348562762199),\n",
       " (1.5174349275372512e-05, -0.702324107349084),\n",
       " (1.5193697338312084e-05, -0.7022922998565163),\n",
       " (1.5201812632405383e-05, -0.7022789694601292),\n",
       " (1.6389366872074358e-05, 0.7003940307000162),\n",
       " (1.7577679204589606e-05, -0.6986270385877442),\n",
       " (1.7655837735503366e-05, -0.6985146201249518),\n",
       " (1.789287786423986e-05, -0.6981763907679102),\n",
       " (1.9663620555773557e-05, 0.6957699795406664),\n",
       " (2.0129132327381217e-05, 0.695169750788618),\n",
       " (2.062317210909775e-05, 0.6945462271352936),\n",
       " (2.149688348128213e-05, 0.6934756544982159),\n",
       " (2.1579480107649205e-05, -0.693376479821602),\n",
       " (2.2787587448632318e-05, -0.691963548616068),\n",
       " (2.4202240745523187e-05, 0.6903921346822652),\n",
       " (2.498552550525995e-05, 0.6895571886642992),\n",
       " (2.618317823350378e-05, 0.6883248875986941),\n",
       " (2.6321476823120516e-05, -0.6881858626872686),\n",
       " (2.6842563878236708e-05, 0.6876678589370974),\n",
       " (2.7962286962526533e-05, 0.6865846070048915),\n",
       " (2.8332072100545375e-05, 0.6862354062238146),\n",
       " (2.8347029120881814e-05, 0.6862213679985578),\n",
       " (2.9660910985524992e-05, -0.6850133877090767),\n",
       " (3.012036869037833e-05, -0.6846022711833583),\n",
       " (3.0380823735489938e-05, -0.6843717104004031),\n",
       " (3.101309536828285e-05, -0.6838192982775416),\n",
       " (3.2634169541626506e-05, -0.6824478021840805),\n",
       " (3.706713322796256e-05, -0.6789873107825167),\n",
       " (3.7703410880687216e-05, -0.6785214205099718),\n",
       " (3.825016062407003e-05, 0.6781266758019457),\n",
       " (4.333705470450022e-05, -0.6746782075158904),\n",
       " (4.703210101827096e-05, -0.6723937776944873),\n",
       " (5.304499274599551e-05, -0.6689988227933342),\n",
       " (5.4694428600202484e-05, -0.6681278212907309),\n",
       " (5.6459127762698156e-05, 0.6672215797620026),\n",
       " (6.342410290369637e-05, -0.6638755370001733),\n",
       " (7.2162718247069e-05, 0.6601137130966083),\n",
       " (7.391759067381397e-05, -0.6594077097330672),\n",
       " (7.918014277981687e-05, -0.6573767571919824),\n",
       " (8.148523738955658e-05, -0.6565248779083316),\n",
       " (8.566850133928135e-05, -0.6550323582572191),\n",
       " (0.00010216416347356073, -0.6497175941472952),\n",
       " (0.00010230773340836459, -0.6496747997930932),\n",
       " (0.00010474070406746139, 0.6489576124699836),\n",
       " (0.00010538133434530512, -0.6487712374998743),\n",
       " (0.0001263093070421954, -0.643177226791016),\n",
       " (0.00014658595683157295, 0.6384952621203445),\n",
       " (0.000156701479325659, 0.6363714235088097),\n",
       " (0.00017115889990699045, 0.6335382596887031),\n",
       " (0.00017691211074593495, 0.6324696418678194),\n",
       " (0.00032934339252155287, -0.6116166216336819),\n",
       " (0.0003867874747471457, -0.6059734351794652),\n",
       " (0.0004857519390210967, -0.597791294627286)]"
      ]
     },
     "execution_count": 24,
     "metadata": {},
     "output_type": "execute_result"
    }
   ],
   "source": [
    "just_active"
   ]
  },
  {
   "cell_type": "code",
   "execution_count": 25,
   "metadata": {
    "collapsed": true
   },
   "outputs": [],
   "source": [
    "results.sort()"
   ]
  },
  {
   "cell_type": "code",
   "execution_count": 26,
   "metadata": {},
   "outputs": [
    {
     "data": {
      "text/plain": [
       "[(3.5370835129503325e-10, -0.8718676963127268),\n",
       " (9.138368787377031e-10, -0.8622724592628433),\n",
       " (1.4126697576885226e-09, -0.8576140460070591),\n",
       " (3.6752400912950025e-09, -0.8467829420244106),\n",
       " (6.103294258402352e-09, -0.8406784195804029),\n",
       " (6.4150186559751475e-09, 0.8400648116580381),\n",
       " (9.127947224684963e-09, 0.8356459913681905),\n",
       " (1.7214075734986736e-08, -0.8273592122961843),\n",
       " (2.0447988375026628e-08, -0.8250323014306228),\n",
       " (2.130075173633953e-08, -0.8244750234735947),\n",
       " (2.270138583116024e-08, -0.8236025276860022),\n",
       " (2.897380752406082e-08, 0.8202157235054452),\n",
       " (2.9316094957442232e-08, 0.8200508900049035),\n",
       " (3.4937715892275085e-08, 0.8175688178286115),\n",
       " (3.852093445453065e-08, -0.8161711103055779),\n",
       " (3.963487890322732e-08, -0.8157607800583055),\n",
       " (4.668033696319824e-08, -0.8133861393216132),\n",
       " (4.7618461165667966e-08, 0.8130950543245277),\n",
       " (5.1974224393562766e-08, 0.8118086223794148),\n",
       " (5.410052637366872e-08, 0.8112160441078389),\n",
       " (5.449850197429316e-08, 0.811107501465054),\n",
       " (5.787814654624251e-08, 0.8102138526810393),\n",
       " (7.149791140060867e-08, -0.807037698817117),\n",
       " (7.225871843809647e-08, 0.8068770726064483),\n",
       " (8.412536731663238e-08, -0.8045531374969599),\n",
       " (9.630550426716846e-08, 0.8024604138547936),\n",
       " (1.0174907984193527e-07, 0.8016023149030529),\n",
       " (1.1272423905133328e-07, -0.7999925982344189),\n",
       " (1.1696701082787007e-07, -0.7994084168181785),\n",
       " (1.1961532362690108e-07, 0.7990534951158618),\n",
       " (1.2961639839250332e-07, 0.7977747911994089),\n",
       " (1.4906033658689106e-07, -0.7955272732328973),\n",
       " (1.7641109148190938e-07, -0.7927811488661436),\n",
       " (2.0063331989467647e-07, -0.7906560264107276),\n",
       " (2.2691933820897838e-07, 0.7885995951673781),\n",
       " (2.315176979190268e-07, -0.7882623546452038),\n",
       " (2.508570081529534e-07, 0.786907671709808),\n",
       " (2.5126242570111426e-07, 0.7868803044147862),\n",
       " (2.710960137331894e-07, 0.7855882326802247),\n",
       " (2.963575086727789e-07, -0.7840618148121236),\n",
       " (3.0002684275459884e-07, 0.7838500281460649),\n",
       " (3.375807493395515e-07, -0.7818083821488797),\n",
       " (3.388627484751411e-07, -0.7817424027346642),\n",
       " (3.425097770121716e-07, -0.781555939210056),\n",
       " (3.489132609187111e-07, -0.7812328727942538),\n",
       " (3.829239536496353e-07, 0.7796024295966355),\n",
       " (4.2257926171913916e-07, -0.7778600881292825),\n",
       " (4.486714887782254e-07, -0.7767931039043424),\n",
       " (4.726502125692567e-07, -0.7758611887479538),\n",
       " (4.90748840719778e-07, 0.7751858527641611),\n",
       " (4.997013233114114e-07, 0.7748601291469301),\n",
       " (5.189910191492796e-07, -0.7741759575090835),\n",
       " (6.327741687789381e-07, -0.7705565498588536),\n",
       " (6.364641625856359e-07, -0.7704493918949876),\n",
       " (6.386607096358877e-07, 0.7703858715671849),\n",
       " (7.016211902187405e-07, 0.7686446537678485),\n",
       " (7.283246617004287e-07, -0.7679487153229007),\n",
       " (7.893010418425243e-07, -0.766442632076313),\n",
       " (7.918490754102253e-07, -0.7663820259278281),\n",
       " (8.076598437462578e-07, 0.7660098711826384),\n",
       " (8.162886708882303e-07, 0.7658095470161128),\n",
       " (8.612416399348571e-07, -0.764796043945155),\n",
       " (8.854451841713753e-07, -0.7642700873147219),\n",
       " (9.452535230015607e-07, -0.7630243659227818),\n",
       " (9.727616274415473e-07, 0.7624752760371821),\n",
       " (1.0605187368644133e-06, 0.7608131285526344),\n",
       " (1.078442129117422e-06, 0.7604890780775255),\n",
       " (1.1094595040519646e-06, 0.7599396652611461),\n",
       " (1.1240793918831228e-06, -0.7596855194479182),\n",
       " (1.1372810286244792e-06, 0.7594585916516398),\n",
       " (1.1628085696744275e-06, 0.7590264869334197),\n",
       " (1.1693465291552174e-06, -0.7589172038585208),\n",
       " (1.1761950042521608e-06, 0.7588033232955614),\n",
       " (1.2686411001355143e-06, 0.7573222111477519),\n",
       " (1.3211192456702345e-06, -0.756524463847808),\n",
       " (1.3223512082516038e-06, -0.7565060837534323),\n",
       " (1.3935766057181722e-06, -0.7554689823635563),\n",
       " (1.4268813953680936e-06, 0.755000437030812),\n",
       " (1.4395017450772973e-06, 0.7548254761501952),\n",
       " (1.4600363252506673e-06, -0.7545437476882625),\n",
       " (1.4971686397094016e-06, 0.7540433029074708),\n",
       " (1.5051574675185362e-06, 0.7539371074111229),\n",
       " (1.5317263829995525e-06, -0.7535875652113542),\n",
       " (1.6629811466133582e-06, 0.7519375142287202),\n",
       " (1.9134951740805635e-06, 0.7490918185656622),\n",
       " (2.010420914541224e-06, 0.7480807604063734),\n",
       " (2.0317500230607406e-06, 0.7478642115802618),\n",
       " (2.2524063571983695e-06, -0.7457372588600021),\n",
       " (2.333433860125134e-06, 0.7450033911097179),\n",
       " (2.6132119221811504e-06, 0.7426353949897692),\n",
       " (2.665201838363925e-06, -0.7422208434309744),\n",
       " (2.694251072235469e-06, 0.741992390479002),\n",
       " (2.776783707963903e-06, -0.741355281801145),\n",
       " (2.7775470477249274e-06, 0.7413494696275293),\n",
       " (2.863593535313257e-06, 0.7407033870216416),\n",
       " (2.8772068995254614e-06, 0.7406027842671501),\n",
       " (2.980786117677198e-06, -0.7398511367118905),\n",
       " (3.0764247335217906e-06, 0.7391778090401969),\n",
       " (3.0863773102776467e-06, -0.7391088314894364),\n",
       " (3.2700526793483887e-06, -0.7378706804714183)]"
      ]
     },
     "execution_count": 26,
     "metadata": {},
     "output_type": "execute_result"
    }
   ],
   "source": [
    "results[:100]"
   ]
  }
 ],
 "metadata": {
  "kernelspec": {
   "display_name": "Python 3 Clinical Applicatoins",
   "language": "python",
   "name": "clinical_applications"
  },
  "language_info": {
   "codemirror_mode": {
    "name": "ipython",
    "version": 3
   },
   "file_extension": ".py",
   "mimetype": "text/x-python",
   "name": "python",
   "nbconvert_exporter": "python",
   "pygments_lexer": "ipython3",
   "version": "3.5.2"
  }
 },
 "nbformat": 4,
 "nbformat_minor": 2
}
