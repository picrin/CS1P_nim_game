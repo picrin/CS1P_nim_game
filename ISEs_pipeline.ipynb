{
 "cells": [
  {
   "cell_type": "code",
   "execution_count": 1,
   "metadata": {
    "collapsed": true
   },
   "outputs": [],
   "source": [
    "import numpy as np\n",
    "import scipy.stats\n",
    "import random\n",
    "from statistics import median\n",
    "import sklearn.linear_model\n",
    "from scipy.stats import pearsonr\n",
    "import math\n",
    "import matplotlib.pyplot as plt\n",
    "%matplotlib inline\n",
    "from scipy.interpolate import interp1d\n",
    "import statsmodels.api as sm\n",
    "import random\n",
    "import string\n",
    "import random\n",
    "import sklearn.metrics\n",
    "import math\n",
    "import numpy as np\n",
    "import scipy\n",
    "import matplotlib.pyplot as plt\n",
    "%matplotlib inline\n",
    "import sys\n"
   ]
  },
  {
   "cell_type": "code",
   "execution_count": 19,
   "metadata": {
    "collapsed": true
   },
   "outputs": [],
   "source": [
    "def partial_random(effect_sequence, intended_r2, reverse=False):\n",
    "    effect_sequence = sorted(effect_sequence)\n",
    "    if reverse:\n",
    "        effect_sequence = effect_sequence[::-1]\n",
    "    result = effect_sequence[:]\n",
    "    count = 0\n",
    "    while sklearn.metrics.r2_score(effect_sequence, result) > intended_r2:\n",
    "        i = random.randint(0, len(effect_sequence) - 2)\n",
    "        result[i], result[i + 1] = result[i + 1], result[i]\n",
    "        count += 1\n",
    "    return result\n",
    "\n",
    "def original_position(sequence):\n",
    "    elements = sorted(list(zip(sequence, range(len(sequence)))))\n",
    "    positions = [i[1] for i in elements]\n",
    "    sorted_sequence = [i[0] for i in elements]\n",
    "    return sorted_sequence, positions\n",
    "\n",
    "def generate_dataset(ISE_size = 300, sequence_randomness = 0.6, n_people = 30, n_genes = 2*10**3, n_active_genes = 200):\n",
    "    MAL = sorted([np.random.randint(0, 1200) for i in range(n_people)])\n",
    "    X = np.matrix(np.random.normal(0, 1, size=(n_people, n_genes)))\n",
    "    genes_i = list(range(n_genes))\n",
    "    random.shuffle(genes_i)\n",
    "    active_genes = genes_i[:n_active_genes]\n",
    "    for i in active_genes:\n",
    "        effect_sequence = X[..., i].reshape(n_people).tolist()[0]\n",
    "        effect_sequence = partial_random(effect_sequence, sequence_randomness, random.randint(0, 1))\n",
    "        X[..., i] = np.array(effect_sequence).reshape(n_people, 1)\n",
    "    reported_MAL = [m + np.random.randint(-ISE_size, ISE_size) for m in MAL]\n",
    "    sMAL, positions = original_position(reported_MAL)\n",
    "    sMAL == [reported_MAL[i] for i in positions]\n",
    "    actual_MAL = [MAL[i] for i in positions]\n",
    "    sorted(list(zip(reported_MAL, MAL))) == sorted(list(zip(sMAL, actual_MAL)))\n",
    "    X2 = np.vstack([X[i, ...] for i in positions])\n",
    "    f_name = \"temp_\" + ''.join(random.choice(string.ascii_uppercase + string.digits) for _ in range(10))\n",
    "    with open(f_name, \"w\") as f:\n",
    "        print(\"IDs\", end=\"\\t\", file=f)\n",
    "        for i in range(n_people):\n",
    "            print(\"pid{}\".format(i), end=\"\\t\", file=f)\n",
    "        print(\"\", file=f)\n",
    "        print(\"ModalAllele\", end=\"\\t\", file=f)\n",
    "        for m in sMAL:\n",
    "            print(m, end=\"\\t\", file=f)\n",
    "        print(file=f)\n",
    "        print(\"ActualMAL\", end=\"\\t\", file=f)\n",
    "        for a in actual_MAL:\n",
    "            print(a, end=\"\\t\", file=f)\n",
    "        print(file=f)\n",
    "        print(\"Affymetrix\", end=\"\\t\", file = f)\n",
    "        for a in active_genes:\n",
    "            print(\"id{}\".format(a), end=\"\\t\", file=f)\n",
    "        print(file=f)\n",
    "        for i in range(n_genes):\n",
    "            print(\"id{}\".format(i), end = \"\\t\", file=f)\n",
    "            for elem in X2[..., i].flatten().tolist()[0]:\n",
    "                print(elem, end = \"\\t\", file=f)\n",
    "            print(file=f)\n",
    "    return f_name"
   ]
  },
  {
   "cell_type": "code",
   "execution_count": 20,
   "metadata": {
    "collapsed": true
   },
   "outputs": [],
   "source": []
  },
  {
   "cell_type": "code",
   "execution_count": 21,
   "metadata": {
    "collapsed": true
   },
   "outputs": [],
   "source": [
    "def load_data_set(f_name):\n",
    "    with open(f_name) as f:\n",
    "        rowID = None\n",
    "        while rowID != \"Affymetrix\":\n",
    "            line = f.readline().rstrip().split()\n",
    "            rowID = line[0]\n",
    "            if rowID == \"IDs\":\n",
    "                columns = range(len(line))[1:]\n",
    "                ids = line[1:]\n",
    "            if rowID == \"ModalAllele\":\n",
    "                mal = [int(i) for i in line[1:]]\n",
    "            if rowID == \"ActualMAL\":\n",
    "                actual_mal = [int(i) for i in line[1:]]\n",
    "            if rowID == \"Affymetrix\":\n",
    "                affected_genes = [i for i in line[1:]]\n",
    "                affected_genes = [int(i.split('id')[1]) for i in affected_genes]\n",
    "                data = np.loadtxt(f, delimiter=\"\\t\", usecols=columns)\n",
    "    data = data.T\n",
    "    return mal, actual_mal, data"
   ]
  },
  {
   "cell_type": "code",
   "execution_count": 22,
   "metadata": {
    "collapsed": true
   },
   "outputs": [],
   "source": []
  },
  {
   "cell_type": "code",
   "execution_count": 5,
   "metadata": {
    "collapsed": true
   },
   "outputs": [],
   "source": [
    "def choose_top_genes(indicies, data):\n",
    "    \"\"\"\n",
    "    Take `indicies`, which is a list of ordered pairs\n",
    "    `r2, column_index`, and a matrix of probeset data,\n",
    "    `data`, and filter all rows to contain only genes on\n",
    "    the `indicies` list.\n",
    "    \"\"\"\n",
    "    just_indices = [i[1] for i in indicies]\n",
    "    return data[..., just_indices]\n",
    "\n",
    "def order_indicies(allele, data):\n",
    "    \"\"\"\n",
    "    Return a sorted list of correlated genes, from the most to the least\n",
    "    correlated. Each entry in the list is a tuple `r2, gene_index`, where\n",
    "    `r2` denotes the correlation of gene expression and `allele`, and\n",
    "    the index of the gene in the `data` matrix respectively.\n",
    "    \n",
    "    `allele` is the list of repeat lengths, with each repeat length\n",
    "    corresponding to one column in `data`\n",
    "    \"\"\"\n",
    "    r2s = []\n",
    "    for i in range(data.shape[1]):\n",
    "        y = data[..., i].reshape(-1).flatten().tolist()\n",
    "        flattened = allele.reshape(-1).flatten().tolist()\n",
    "        if isinstance(flattened[0], list):\n",
    "            flattened = flattened[0]\n",
    "        gene_r, _ = pearsonr(flattened, y)\n",
    "        # We have to store both the gene and the gene index, to recover the indices after sorting.\n",
    "        r2s.append((gene_r ** 2, i))\n",
    "    r2s.sort()\n",
    "    # This reverses the list, assuring decreasing order.\n",
    "    r2s = r2s[::-1]\n",
    "    return r2s\n",
    "\n",
    "def choose_training_indicies(data, no_training_samples):\n",
    "    \"\"\"Return a partition of column indicies of the `data`\n",
    "    matrix into two sets: `training_indicies, testing_indicies`.\n",
    "    The training set will contain `no_training_samples` biological\n",
    "    samples.\n",
    "    \"\"\"\n",
    "    indices = list(range(data.shape[0]))\n",
    "    random.shuffle(indices)\n",
    "    training_indices = indices[:no_training_samples]\n",
    "    test_indicies = indices[no_training_samples:]\n",
    "    return training_indices, test_indicies\n",
    "\n",
    "def split_data(data, training_indices, test_indices):\n",
    "    \"\"\"Return a partition of data into `training_set, testing_set`\n",
    "    using an existing partition of column incidices into\n",
    "    `training_indicies` and `test_indicies`\n",
    "    \"\"\"\n",
    "    return data[training_indices, :], data[test_indices, :]\n",
    "\n",
    "def cv(lista):\n",
    "    return np.matrix(lista).transpose()\n",
    "def rv(lista):\n",
    "    return np.matrix(lista)\n",
    "\n",
    "def non_zero_indices(l):\n",
    "    relative = median(l)\n",
    "    return [i for i, a in enumerate(l) if abs(a) > relative * 10**(-5)]"
   ]
  },
  {
   "cell_type": "code",
   "execution_count": 7,
   "metadata": {
    "collapsed": true
   },
   "outputs": [],
   "source": [
    "def select_features(data, mal, low, high):\n",
    "    results = []\n",
    "    for j in range(2):\n",
    "        for i in range(low, high):\n",
    "            training_i, testing_i = choose_training_indicies(data, math.ceil(data.shape[0] * 0.66))\n",
    "            training_fold, testing_fold = split_data(data, training_i, testing_i)\n",
    "            repeat_length_training = np.matrix([mal[i] for i in training_i]).reshape(-1, 1)\n",
    "            repeat_length_testing = np.matrix([mal[i] for i in testing_i]).reshape(-1, 1)\n",
    "\n",
    "            top_genes = order_indicies(repeat_length_training, training_fold)[:i]\n",
    "            training_set = choose_top_genes(top_genes, training_fold)\n",
    "            testing_set = choose_top_genes(top_genes, testing_fold)\n",
    "\n",
    "            shitty_linear_regression = sklearn.linear_model.LinearRegression()\n",
    "            shitty_linear_regression.fit(training_set, repeat_length_training)\n",
    "            score = shitty_linear_regression.score(testing_set, repeat_length_testing)\n",
    "            results.append((i, score))\n",
    "    gene_no = [i[0] for i in results]\n",
    "    performance = [i[1] for i in results]\n",
    "    \n",
    "    # introduce some floats in our x-values\n",
    "    x = gene_no\n",
    "    y = performance\n",
    "\n",
    "    # lowess will return our \"smoothed\" data with a y value for at every x-value\n",
    "    lowess = sm.nonparametric.lowess(y, x, frac=.2)\n",
    "\n",
    "    # unpack the lowess smoothed points to their values\n",
    "    lowess_x = list(zip(*lowess))[0]\n",
    "    lowess_y = list(zip(*lowess))[1]\n",
    "\n",
    "    # run scipy's interpolation. There is also extrapolation I believe\n",
    "    f = interp1d(lowess_x, lowess_y, bounds_error=False)\n",
    "\n",
    "    xnew = np.linspace(low, high, 1000)\n",
    "\n",
    "    # this this generate y values for our xvalues by our interpolator\n",
    "    # it will MISS values outsite of the x window (less than 3, greater than 33)\n",
    "    # There might be a better approach, but you can run a for loop\n",
    "    #and if the value is out of the range, use f(min(lowess_x)) or f(max(lowess_x))\n",
    "    ynew = f(xnew)\n",
    "\n",
    "\n",
    "    plt.plot(x, y, 'o')\n",
    "    plt.plot(lowess_x, lowess_y, '*')\n",
    "    plt.plot(xnew, ynew, '-')\n",
    "    plt.ylim([-1, 1])\n",
    "    plt.xlim()\n",
    "    discover_max = [(i, j) for i, j in zip(ynew, xnew) if i < 1]\n",
    "    optimal_param = int(max(discover_max)[1])\n",
    "    print(optimal_param)\n",
    "    return optimal_param"
   ]
  },
  {
   "cell_type": "code",
   "execution_count": 8,
   "metadata": {},
   "outputs": [
    {
     "name": "stdout",
     "output_type": "stream",
     "text": [
      "199\n"
     ]
    },
    {
     "data": {
      "image/png": "[encoded data removed]",
      "text/plain": [
       "<Figure size 432x288 with 1 Axes>"
      ]
     },
     "metadata": {},
     "output_type": "display_data"
    }
   ],
   "source": []
  },
  {
   "cell_type": "code",
   "execution_count": 10,
   "metadata": {
    "collapsed": true
   },
   "outputs": [],
   "source": [
    "def evaluate_with_linear_model(data, n, actual_mal, mal, cv_fraction, optimal_param):\n",
    "    mal_results = []\n",
    "    ground_truth = []\n",
    "    for i in range(n):\n",
    "        training_i, testing_i = choose_training_indicies(data, math.ceil(data.shape[0] * cv_fraction))\n",
    "        training_fold, testing_fold = split_data(data, training_i, testing_i)\n",
    "        repeat_length_training = np.matrix([mal[i] for i in training_i]).reshape(-1, 1)\n",
    "        repeat_length_testing = np.matrix([actual_mal[i] for i in testing_i]).reshape(-1, 1)\n",
    "\n",
    "        top_genes = order_indicies(repeat_length_training, training_fold)[:optimal_param]\n",
    "        training_set = choose_top_genes(top_genes, training_fold)\n",
    "        testing_set = choose_top_genes(top_genes, testing_fold)\n",
    "\n",
    "        shitty_linear_regression = sklearn.linear_model.LinearRegression()\n",
    "        shitty_linear_regression.fit(training_set, repeat_length_training)\n",
    "        scores = shitty_linear_regression.predict(testing_set)\n",
    "        #print(scores.reshape(-1))\n",
    "        mal_results.extend(scores.reshape(-1))\n",
    "        ground_truth.extend(repeat_length_testing.reshape(-1).tolist()[0])\n",
    "    return ground_truth, mal_results"
   ]
  },
  {
   "cell_type": "code",
   "execution_count": 11,
   "metadata": {
    "collapsed": true
   },
   "outputs": [],
   "source": [
    "def data_ISEs(data, optimal_param):\n",
    "    mal_var = np.array(mal).reshape(-1, 1)\n",
    "\n",
    "    top_genes_all = [i[1] for i in order_indicies(mal_var, data)[:optimal_param]]\n",
    "    filtered_data = data[..., top_genes_all]\n",
    "    errors = []\n",
    "\n",
    "\n",
    "    for i in range(filtered_data.shape[1]):\n",
    "        for_ise = sklearn.linear_model.LinearRegression()\n",
    "        for_ise.fit(mal_var, filtered_data[..., i].reshape(-1, 1))\n",
    "        #help(for_ise.fit)\n",
    "        #print(mal_var)\n",
    "        #print(for.ise_predict_mal)\n",
    "        error = filtered_data[..., i].reshape(-1, 1) - for_ise.predict(mal_var)\n",
    "        errors.append(error)\n",
    "\n",
    "    errors = np.hstack(errors)\n",
    "\n",
    "    ISEs = []\n",
    "    for i in range(errors.shape[0]):\n",
    "        ISEs.append(np.mean(errors[i, ...]))\n",
    "\n",
    "\n",
    "    corrected_data = data - np.vstack([ISEs for i in range(data.shape[1])]).T\n",
    "    return corrected_data"
   ]
  },
  {
   "cell_type": "code",
   "execution_count": 12,
   "metadata": {
    "collapsed": true
   },
   "outputs": [],
   "source": [
    "def mal_ISEs(data, optimal_param):\n",
    "    mal_var = np.array(mal).reshape(-1, 1)\n",
    "    \n",
    "    top_genes_all = [i[1] for i in order_indicies(mal_var, data)[:optimal_param]]\n",
    "\n",
    "    filtered_data = data[..., top_genes_all]\n",
    "    errors = []\n",
    "\n",
    "    for i in range(filtered_data.shape[1]):\n",
    "        for_ise = sklearn.linear_model.LinearRegression()\n",
    "        gene_data = filtered_data[..., i].reshape(-1, 1)\n",
    "        for_ise.fit(gene_data, mal_var)\n",
    "        #help(for_ise.fit)\n",
    "        #print(mal_var)\n",
    "        #print(for.ise_predict_mal)\n",
    "        y = for_ise.predict(gene_data)\n",
    "        #print(sklearn.metrics.r2_score(mal_var, ))\n",
    "        error = mal_var - for_ise.predict(gene_data)\n",
    "        errors.append(error)\n",
    "\n",
    "    errors = np.hstack(errors)\n",
    "\n",
    "    #print(errors.shape)\n",
    "\n",
    "    ISEs = []\n",
    "    for i in range(errors.shape[0]):\n",
    "        ISEs.append(np.mean(errors[i, ...]))\n",
    "\n",
    "    ISEs = np.array(ISEs).reshape(-1, 1)\n",
    "\n",
    "    corrected_mal = mal_var - ISEs\n",
    "\n",
    "    return corrected_mal"
   ]
  },
  {
   "cell_type": "code",
   "execution_count": 14,
   "metadata": {
    "collapsed": true
   },
   "outputs": [],
   "source": [
    "def produce_plot(ground_truth, mal_results, color, description):\n",
    "    iis = []\n",
    "    rs = []\n",
    "    for i in range(2, len(mal_results), 10):\n",
    "        r = sklearn.metrics.r2_score(mal_results[:i], ground_truth[:i])\n",
    "        iis.append(i)\n",
    "        rs.append(r)\n",
    "    print(description, color, r)\n",
    "    plt.scatter(iis, rs, color=color)"
   ]
  },
  {
   "cell_type": "code",
   "execution_count": 27,
   "metadata": {
    "collapsed": true
   },
   "outputs": [],
   "source": [
    "ISE_size = 300\n",
    "sequence_randomness = 0.6\n",
    "n_people = 30\n",
    "n_genes = 2*10**3\n",
    "n_active_genes = 200"
   ]
  },
  {
   "cell_type": "code",
   "execution_count": 29,
   "metadata": {},
   "outputs": [
    {
     "name": "stdout",
     "output_type": "stream",
     "text": [
      "186\n",
      "known ISEs b 0.9115376284127115\n",
      "ISEs without correction r 0.8473218574437158\n",
      "ISEs using Darren's method y 0.8504311283636741\n",
      "ISEs using Adam's method g 0.7562574989504296\n",
      "corrected vs actual 0.804689385250052\n",
      "mal vs actual 0.8182809655914507\n"
     ]
    },
    {
     "data": {
      "image/png": "[encoded data removed]",
      "text/plain": [
       "<Figure size 432x288 with 1 Axes>"
      ]
     },
     "metadata": {},
     "output_type": "display_data"
    },
    {
     "data": {
      "image/png": "[encoded data removed]",
      "text/plain": [
       "<Figure size 432x288 with 1 Axes>"
      ]
     },
     "metadata": {},
     "output_type": "display_data"
    }
   ],
   "source": [
    "plt.figure()\n",
    "plt.title(\"size: {}, rand: {}\".format(ISE_size, sequence_randomness))\n",
    "f_name = generate_dataset(ISE_size = ISE_size, sequence_randomness = sequence_randomness, n_people = n_people, n_genes = n_genes, n_active_genes = n_active_genes)\n",
    "mal, actual_mal, data = load_data_set(f_name)\n",
    "corrected_data = data_ISEs(data, optimal_param)\n",
    "optimal_param = select_features(data, actual_mal, 25, 400)\n",
    "plt.figure()\n",
    "k = 100\n",
    "plt.ylim([-1, 1])\n",
    "cv = 0.66\n",
    "produce_plot(*evaluate_with_linear_model(data, k, actual_mal, actual_mal, cv, optimal_param), \"b\", \"known ISEs\")\n",
    "produce_plot(*evaluate_with_linear_model(data, k, actual_mal, mal, cv, optimal_param), \"r\", \"ISEs without correction\")\n",
    "produce_plot(*evaluate_with_linear_model(corrected_data, k, actual_mal, mal, cv, optimal_param), \"y\", \"ISEs using Darren's method\")\n",
    "corrected_mal = mal_ISEs(data, optimal_param)\n",
    "produce_plot(*evaluate_with_linear_model(data, k, actual_mal, corrected_mal, cv, optimal_param), \"g\", \"ISEs using Adam's method\")\n",
    "print(\"corrected vs actual\", sklearn.metrics.r2_score(corrected_mal, actual_mal))\n",
    "print(\"mal vs actual\", sklearn.metrics.r2_score(mal, actual_mal))"
   ]
  },
  {
   "cell_type": "code",
   "execution_count": null,
   "metadata": {
    "collapsed": true
   },
   "outputs": [],
   "source": []
  }
 ],
 "metadata": {
  "kernelspec": {
   "display_name": "Python 3 Clinical Applicatoins",
   "language": "python",
   "name": "clinical_applications"
  },
  "language_info": {
   "codemirror_mode": {
    "name": "ipython",
    "version": 3
   },
   "file_extension": ".py",
   "mimetype": "text/x-python",
   "name": "python",
   "nbconvert_exporter": "python",
   "pygments_lexer": "ipython3",
   "version": "3.5.2"
  }
 },
 "nbformat": 4,
 "nbformat_minor": 2
}
