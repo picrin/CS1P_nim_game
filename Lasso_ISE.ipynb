{
 "cells": [
  {
   "cell_type": "code",
   "execution_count": 324,
   "metadata": {
    "collapsed": true
   },
   "outputs": [],
   "source": [
    "import numpy as np\n",
    "import scipy.stats\n",
    "import random\n",
    "from statistics import median\n",
    "import sklearn.linear_model\n",
    "from scipy.stats import pearsonr"
   ]
  },
  {
   "cell_type": "code",
   "execution_count": 325,
   "metadata": {
    "collapsed": true
   },
   "outputs": [],
   "source": [
    "filename = \"generated_data\"\n",
    "with open(filename) as f:\n",
    "    rowID = None\n",
    "    while rowID != \"Affymetrix\":\n",
    "        line = f.readline().rstrip().split()\n",
    "        rowID = line[0]\n",
    "        if rowID == \"IDs\":\n",
    "            columns = range(len(line))[1:]\n",
    "            ids = line[1:]\n",
    "        if rowID == \"ModalAllele\":\n",
    "            mal = [int(i) for i in line[1:]]\n",
    "        if rowID == \"ActualMAL\":\n",
    "            actual_mal = [int(i) for i in line[1:]]\n",
    "        if rowID == \"Affymetrix\":\n",
    "            affected_genes = [i for i in line[1:]]\n",
    "            affected_genes = [int(i.split('id')[1]) for i in affected_genes]\n",
    "            data = np.loadtxt(f, delimiter=\"\\t\", usecols=columns)\n",
    "data = data.T"
   ]
  },
  {
   "cell_type": "code",
   "execution_count": 326,
   "metadata": {
    "collapsed": true
   },
   "outputs": [],
   "source": [
    "def choose_top_genes(indicies, data):\n",
    "    \"\"\"\n",
    "    Take `indicies`, which is a list of ordered pairs\n",
    "    `r2, column_index`, and a matrix of probeset data,\n",
    "    `data`, and filter all rows to contain only genes on\n",
    "    the `indicies` list.\n",
    "    \"\"\"\n",
    "    just_indices = [i[1] for i in indicies]\n",
    "    return data[..., just_indices]\n",
    "\n",
    "def order_indicies(allele, data):\n",
    "    \"\"\"\n",
    "    Return a sorted list of correlated genes, from the most to the least\n",
    "    correlated. Each entry in the list is a tuple `r2, gene_index`, where\n",
    "    `r2` denotes the correlation of gene expression and `allele`, and\n",
    "    the index of the gene in the `data` matrix respectively.\n",
    "    \n",
    "    `allele` is the list of repeat lengths, with each repeat length\n",
    "    corresponding to one column in `data`\n",
    "    \"\"\"\n",
    "    r2s = []\n",
    "    for i in range(data.shape[1]):\n",
    "        #print(data[i, ...].shape)\n",
    "        y = data[..., i].reshape(-1).flatten().tolist()\n",
    "        #print(y)\n",
    "        #print(allele.reshape(-1).flatten().tolist()[0])\n",
    "        gene_r, _ = pearsonr(allele.reshape(-1).flatten().tolist()[0], y)\n",
    "        # We have to store both the gene and the gene index, to recover the indices after sorting.\n",
    "        r2s.append((gene_r ** 2, i))\n",
    "    r2s.sort()\n",
    "    # This reverses the list, assuring decreasing order.\n",
    "    r2s = r2s[::-1]\n",
    "    return r2s\n",
    "\n",
    "def choose_training_indicies(data, no_training_samples):\n",
    "    \"\"\"Return a partition of column indicies of the `data`\n",
    "    matrix into two sets: `training_indicies, testing_indicies`.\n",
    "    The training set will contain `no_training_samples` biological\n",
    "    samples.\n",
    "    \"\"\"\n",
    "    indices = list(range(data.shape[0]))\n",
    "    random.shuffle(indices)\n",
    "    training_indices = indices[:no_training_samples]\n",
    "    test_indicies = indices[no_training_samples:]\n",
    "    return training_indices, test_indicies\n",
    "\n",
    "def split_data(data, training_indices, test_indices):\n",
    "    \"\"\"Return a partition of data into `training_set, testing_set`\n",
    "    using an existing partition of column incidices into\n",
    "    `training_indicies` and `test_indicies`\n",
    "    \"\"\"\n",
    "    return data[training_indices, :], data[test_indices, :]\n",
    "\n",
    "def cv(lista):\n",
    "    return np.matrix(lista).transpose()\n",
    "def rv(lista):\n",
    "    return np.matrix(lista)\n",
    "\n",
    "def non_zero_indices(l):\n",
    "    relative = median(l)\n",
    "    return [i for i, a in enumerate(l) if abs(a) > relative * 10**(-5)]"
   ]
  },
  {
   "cell_type": "code",
   "execution_count": 327,
   "metadata": {
    "collapsed": true
   },
   "outputs": [],
   "source": [
    "size, _ = data.shape"
   ]
  },
  {
   "cell_type": "code",
   "execution_count": 328,
   "metadata": {
    "collapsed": true
   },
   "outputs": [],
   "source": [
    "import math"
   ]
  },
  {
   "cell_type": "code",
   "execution_count": 329,
   "metadata": {},
   "outputs": [],
   "source": [
    "results = []\n",
    "for j in range(2):\n",
    "    for i in range(1, 200):\n",
    "        training_i, testing_i = choose_training_indicies(data, math.ceil(size * 0.66))\n",
    "        training_fold, testing_fold = split_data(data, training_i, testing_i)\n",
    "        repeat_length_training = np.matrix([mal[i] for i in training_i]).reshape(-1, 1)\n",
    "        repeat_length_testing = np.matrix([mal[i] for i in testing_i]).reshape(-1, 1)\n",
    "\n",
    "        top_genes = order_indicies(repeat_length_training, training_fold)[:i]\n",
    "        training_set = choose_top_genes(top_genes, training_fold)\n",
    "        testing_set = choose_top_genes(top_genes, testing_fold)\n",
    "\n",
    "        shitty_linear_regression = sklearn.linear_model.LinearRegression()\n",
    "        shitty_linear_regression.fit(training_set, repeat_length_training)\n",
    "        score = shitty_linear_regression.score(testing_set, repeat_length_testing)\n",
    "        results.append((i, score))"
   ]
  },
  {
   "cell_type": "code",
   "execution_count": 330,
   "metadata": {
    "collapsed": true
   },
   "outputs": [],
   "source": [
    "gene_no = [i[0] for i in results]"
   ]
  },
  {
   "cell_type": "code",
   "execution_count": 331,
   "metadata": {
    "collapsed": true
   },
   "outputs": [],
   "source": [
    "performance = [i[1] for i in results]"
   ]
  },
  {
   "cell_type": "code",
   "execution_count": 332,
   "metadata": {},
   "outputs": [
    {
     "data": {
      "image/png": "[encoded data removed]",
      "text/plain": [
       "<Figure size 432x288 with 1 Axes>"
      ]
     },
     "metadata": {},
     "output_type": "display_data"
    }
   ],
   "source": [
    "from scipy.interpolate import interp1d\n",
    "import statsmodels.api as sm\n",
    "\n",
    "# introduce some floats in our x-values\n",
    "x = gene_no\n",
    "y = performance\n",
    "\n",
    "# lowess will return our \"smoothed\" data with a y value for at every x-value\n",
    "lowess = sm.nonparametric.lowess(y, x, frac=.2)\n",
    "\n",
    "# unpack the lowess smoothed points to their values\n",
    "lowess_x = list(zip(*lowess))[0]\n",
    "lowess_y = list(zip(*lowess))[1]\n",
    "\n",
    "# run scipy's interpolation. There is also extrapolation I believe\n",
    "f = interp1d(lowess_x, lowess_y, bounds_error=False)\n",
    "\n",
    "xnew = np.linspace(25, max(x), 1000)\n",
    "\n",
    "# this this generate y values for our xvalues by our interpolator\n",
    "# it will MISS values outsite of the x window (less than 3, greater than 33)\n",
    "# There might be a better approach, but you can run a for loop\n",
    "#and if the value is out of the range, use f(min(lowess_x)) or f(max(lowess_x))\n",
    "ynew = f(xnew)\n",
    "\n",
    "\n",
    "plt.plot(x, y, 'o')\n",
    "plt.plot(lowess_x, lowess_y, '*')\n",
    "plt.plot(xnew, ynew, '-')\n",
    "plt.ylim([-1, 1])\n",
    "discover_max = [(i, j) for i, j in zip(ynew, xnew) if i < 1]"
   ]
  },
  {
   "cell_type": "code",
   "execution_count": 333,
   "metadata": {
    "collapsed": true
   },
   "outputs": [],
   "source": [
    "optimal_param = int(max(discover_max)[1])"
   ]
  },
  {
   "cell_type": "code",
   "execution_count": 334,
   "metadata": {},
   "outputs": [
    {
     "data": {
      "text/plain": [
       "126"
      ]
     },
     "execution_count": 334,
     "metadata": {},
     "output_type": "execute_result"
    }
   ],
   "source": [
    "optimal_param"
   ]
  },
  {
   "cell_type": "code",
   "execution_count": 335,
   "metadata": {
    "collapsed": true
   },
   "outputs": [],
   "source": [
    "n = 100"
   ]
  },
  {
   "cell_type": "code",
   "execution_count": 336,
   "metadata": {
    "collapsed": true
   },
   "outputs": [],
   "source": [
    "mal_results = []\n",
    "ground_truth = []\n",
    "for i in range(n):\n",
    "    training_i, testing_i = choose_training_indicies(data, math.ceil(size * 0.66))\n",
    "    training_fold, testing_fold = split_data(data, training_i, testing_i)\n",
    "    repeat_length_training = np.matrix([mal[i] for i in training_i]).reshape(-1, 1)\n",
    "    repeat_length_testing = np.matrix([mal[i] for i in testing_i]).reshape(-1, 1)\n",
    "\n",
    "    top_genes = order_indicies(repeat_length_training, training_fold)[:optimal_param]\n",
    "    training_set = choose_top_genes(top_genes, training_fold)\n",
    "    testing_set = choose_top_genes(top_genes, testing_fold)\n",
    "\n",
    "    shitty_linear_regression = sklearn.linear_model.LinearRegression()\n",
    "    shitty_linear_regression.fit(training_set, repeat_length_training)\n",
    "    scores = shitty_linear_regression.predict(testing_set)\n",
    "    #print(scores.reshape(-1))\n",
    "    mal_results.extend(scores.reshape(-1))\n",
    "    ground_truth.extend(repeat_length_testing.reshape(-1).tolist()[0])"
   ]
  },
  {
   "cell_type": "code",
   "execution_count": 337,
   "metadata": {},
   "outputs": [
    {
     "data": {
      "text/plain": [
       "0.45481031398532223"
      ]
     },
     "execution_count": 337,
     "metadata": {},
     "output_type": "execute_result"
    }
   ],
   "source": [
    "sklearn.metrics.r2_score(mal_results, ground_truth)"
   ]
  },
  {
   "cell_type": "code",
   "execution_count": 338,
   "metadata": {
    "collapsed": true
   },
   "outputs": [],
   "source": [
    "actualmal_results = []\n",
    "actualmal_ground_truth = []\n",
    "for i in range(n):\n",
    "    training_i, testing_i = choose_training_indicies(data, math.ceil(size * 0.66))\n",
    "    training_fold, testing_fold = split_data(data, training_i, testing_i)\n",
    "    repeat_length_training = np.matrix([actual_mal[i] for i in training_i]).reshape(-1, 1)\n",
    "    repeat_length_testing = np.matrix([actual_mal[i] for i in testing_i]).reshape(-1, 1)\n",
    "\n",
    "    top_genes = order_indicies(repeat_length_training, training_fold)[:optimal_param]\n",
    "    training_set = choose_top_genes(top_genes, training_fold)\n",
    "    testing_set = choose_top_genes(top_genes, testing_fold)\n",
    "\n",
    "    shitty_linear_regression = sklearn.linear_model.LinearRegression()\n",
    "    shitty_linear_regression.fit(training_set, repeat_length_training)\n",
    "    scores = shitty_linear_regression.predict(testing_set)\n",
    "    #print(scores.reshape(-1))\n",
    "    actualmal_results.extend(scores.reshape(-1))\n",
    "    actualmal_ground_truth.extend(repeat_length_testing.reshape(-1).tolist()[0])"
   ]
  },
  {
   "cell_type": "code",
   "execution_count": 339,
   "metadata": {},
   "outputs": [
    {
     "data": {
      "text/plain": [
       "0.9587167754313823"
      ]
     },
     "execution_count": 339,
     "metadata": {},
     "output_type": "execute_result"
    }
   ],
   "source": [
    "sklearn.metrics.r2_score(actualmal_results, actualmal_ground_truth)"
   ]
  },
  {
   "cell_type": "code",
   "execution_count": 340,
   "metadata": {},
   "outputs": [
    {
     "data": {
      "text/plain": [
       "(0, 1)"
      ]
     },
     "execution_count": 340,
     "metadata": {},
     "output_type": "execute_result"
    },
    {
     "data": {
      "image/png": "[encoded data removed]",
      "text/plain": [
       "<Figure size 432x288 with 1 Axes>"
      ]
     },
     "metadata": {},
     "output_type": "display_data"
    }
   ],
   "source": [
    "iis = []\n",
    "rs = []\n",
    "actual_mal_rs = []\n",
    "for i in range(2, len(mal_results), 10):\n",
    "    r = sklearn.metrics.r2_score(mal_results[:i], ground_truth[:i])\n",
    "    actual_mal_r = sklearn.metrics.r2_score(actualmal_results[:i], actualmal_ground_truth[:i])\n",
    "    iis.append(i)\n",
    "    rs.append(r)\n",
    "    actual_mal_rs.append(actual_mal_r)\n",
    "\n",
    "plt.scatter(iis, rs, color=\"r\")\n",
    "plt.scatter(iis, actual_mal_rs, color=\"b\")\n",
    "plt.ylim([0, 1])"
   ]
  },
  {
   "cell_type": "code",
   "execution_count": 341,
   "metadata": {},
   "outputs": [
    {
     "data": {
      "text/plain": [
       "126"
      ]
     },
     "execution_count": 341,
     "metadata": {},
     "output_type": "execute_result"
    }
   ],
   "source": [
    "len(set([i[1] for i in top_genes]).intersection(affected_genes))"
   ]
  },
  {
   "cell_type": "markdown",
   "metadata": {},
   "source": [
    "# Compare with Shitasso"
   ]
  },
  {
   "cell_type": "code",
   "execution_count": 342,
   "metadata": {},
   "outputs": [
    {
     "data": {
      "text/plain": [
       "-0.8679426229610043"
      ]
     },
     "execution_count": 342,
     "metadata": {},
     "output_type": "execute_result"
    }
   ],
   "source": [
    "#for alpha in [10**i]\n",
    "training_i, testing_i = choose_training_indicies(data, math.ceil(size * 0.8))\n",
    "training_fold, testing_fold = split_data(data, training_i, testing_i)\n",
    "repeat_length_training = np.matrix([mal[i] for i in training_i]).reshape(-1, 1)\n",
    "repeat_length_testing = np.matrix([mal[i] for i in testing_i]).reshape(-1, 1)\n",
    "lasso = sklearn.linear_model.Lasso(alpha=0.005, max_iter=10000)\n",
    "lasso.fit(training_fold, repeat_length_training)\n",
    "lasso.score(testing_fold, repeat_length_testing)"
   ]
  },
  {
   "cell_type": "code",
   "execution_count": 343,
   "metadata": {
    "collapsed": true
   },
   "outputs": [],
   "source": [
    "learnt_coeffs = non_zero_indices(lasso.coef_)"
   ]
  },
  {
   "cell_type": "code",
   "execution_count": 344,
   "metadata": {},
   "outputs": [
    {
     "data": {
      "text/plain": [
       "418"
      ]
     },
     "execution_count": 344,
     "metadata": {},
     "output_type": "execute_result"
    }
   ],
   "source": [
    "len(learnt_coeffs)"
   ]
  },
  {
   "cell_type": "code",
   "execution_count": 345,
   "metadata": {},
   "outputs": [
    {
     "data": {
      "text/plain": [
       "200"
      ]
     },
     "execution_count": 345,
     "metadata": {},
     "output_type": "execute_result"
    }
   ],
   "source": [
    "len(affected_genes)"
   ]
  },
  {
   "cell_type": "code",
   "execution_count": 346,
   "metadata": {},
   "outputs": [
    {
     "data": {
      "text/plain": [
       "35"
      ]
     },
     "execution_count": 346,
     "metadata": {},
     "output_type": "execute_result"
    }
   ],
   "source": [
    "len(set(affected_genes).intersection(learnt_coeffs))"
   ]
  },
  {
   "cell_type": "markdown",
   "metadata": {},
   "source": [
    "# ISEs"
   ]
  },
  {
   "cell_type": "code",
   "execution_count": 347,
   "metadata": {
    "collapsed": true
   },
   "outputs": [],
   "source": [
    "top_genes_all = [i[1] for i in order_indicies(repeat_length_training, training_fold)[:optimal_param]]"
   ]
  },
  {
   "cell_type": "code",
   "execution_count": 348,
   "metadata": {},
   "outputs": [],
   "source": [
    "filtered_data = data[..., top_genes_all]\n",
    "i = 10\n",
    "errors = []\n",
    "\n",
    "for i in range(filtered_data.shape[1]):\n",
    "    for_ise.fit(mal_var, filtered_data[..., i].reshape(-1, 1))\n",
    "    for_ise.predict(mal_var)\n",
    "    error = for_ise.predict(mal_var) - filtered_data[..., i].reshape(-1, 1)\n",
    "    errors.append(error)\n",
    "\n",
    "errors = np.hstack(errors)\n",
    "\n",
    "ISEs = []\n",
    "for i in range(errors.shape[0]):\n",
    "    ISEs.append(np.mean(errors[i, ...]))\n",
    "\n",
    "\n",
    "corrected_data = data + np.vstack([ISEs for i in range(data.shape[1])]).T"
   ]
  },
  {
   "cell_type": "code",
   "execution_count": 349,
   "metadata": {},
   "outputs": [
    {
     "data": {
      "text/plain": [
       "0.9948148362327219"
      ]
     },
     "execution_count": 349,
     "metadata": {},
     "output_type": "execute_result"
    }
   ],
   "source": [
    "sklearn.metrics.r2_score(corrected_data, data)"
   ]
  },
  {
   "cell_type": "code",
   "execution_count": 350,
   "metadata": {
    "collapsed": true
   },
   "outputs": [],
   "source": [
    "mal_ISE_results = []\n",
    "ground_ISE_truth = []\n",
    "for i in range(n):\n",
    "    training_i, testing_i = choose_training_indicies(corrected_data, math.ceil(size * 0.66))\n",
    "    training_fold, testing_fold = split_data(data, training_i, testing_i)\n",
    "    repeat_length_training = np.matrix([mal[i] for i in training_i]).reshape(-1, 1)\n",
    "    repeat_length_testing = np.matrix([mal[i] for i in testing_i]).reshape(-1, 1)\n",
    "\n",
    "    top_genes = order_indicies(repeat_length_training, training_fold)[:optimal_param]\n",
    "    training_set = choose_top_genes(top_genes, training_fold)\n",
    "    testing_set = choose_top_genes(top_genes, testing_fold)\n",
    "\n",
    "    shitty_linear_regression = sklearn.linear_model.LinearRegression()\n",
    "    shitty_linear_regression.fit(training_set, repeat_length_training)\n",
    "    scores = shitty_linear_regression.predict(testing_set)\n",
    "    #print(scores.reshape(-1))\n",
    "    mal_ISE_results.extend(scores.reshape(-1))\n",
    "    ground_ISE_truth.extend(repeat_length_testing.reshape(-1).tolist()[0])"
   ]
  },
  {
   "cell_type": "code",
   "execution_count": 351,
   "metadata": {},
   "outputs": [
    {
     "data": {
      "text/plain": [
       "0.9948148362327219"
      ]
     },
     "execution_count": 351,
     "metadata": {},
     "output_type": "execute_result"
    }
   ],
   "source": [
    "sklearn.metrics.r2_score(corrected_data, data)"
   ]
  },
  {
   "cell_type": "code",
   "execution_count": 352,
   "metadata": {},
   "outputs": [
    {
     "data": {
      "text/plain": [
       "30"
      ]
     },
     "execution_count": 352,
     "metadata": {},
     "output_type": "execute_result"
    }
   ],
   "source": [
    "len(ISEs)"
   ]
  },
  {
   "cell_type": "code",
   "execution_count": 353,
   "metadata": {},
   "outputs": [
    {
     "data": {
      "text/plain": [
       "0.47210169846141203"
      ]
     },
     "execution_count": 353,
     "metadata": {},
     "output_type": "execute_result"
    }
   ],
   "source": [
    "sklearn.metrics.r2_score(mal_ISE_results, ground_ISE_truth)"
   ]
  },
  {
   "cell_type": "code",
   "execution_count": 354,
   "metadata": {},
   "outputs": [
    {
     "data": {
      "text/plain": [
       "(0, 1)"
      ]
     },
     "execution_count": 354,
     "metadata": {},
     "output_type": "execute_result"
    },
    {
     "data": {
      "image/png": "[encoded data removed]",
      "text/plain": [
       "<Figure size 432x288 with 1 Axes>"
      ]
     },
     "metadata": {},
     "output_type": "display_data"
    }
   ],
   "source": [
    "iis = []\n",
    "rs = []\n",
    "actual_mal_rs = []\n",
    "ISE_mal_rs = []\n",
    "for i in range(2, len(mal_results), 10):\n",
    "    r = sklearn.metrics.r2_score(mal_results[:i], ground_truth[:i])\n",
    "    actual_mal_r = sklearn.metrics.r2_score(actualmal_results[:i], actualmal_ground_truth[:i])\n",
    "    ISE_mal_r = sklearn.metrics.r2_score(mal_ISE_results[:i], ground_ISE_truth[:i])\n",
    "    iis.append(i)\n",
    "    rs.append(r)\n",
    "    actual_mal_rs.append(actual_mal_r)\n",
    "    ISE_mal_rs.append(ISE_mal_r)\n",
    "\n",
    "plt.scatter(iis, rs, color=\"r\")\n",
    "plt.scatter(iis, actual_mal_rs, color=\"b\")\n",
    "plt.scatter(iis, ISE_mal_rs, color=\"y\")\n",
    "plt.ylim([0, 1])"
   ]
  },
  {
   "cell_type": "markdown",
   "metadata": {},
   "source": [
    "# Scratchpad"
   ]
  },
  {
   "cell_type": "code",
   "execution_count": 167,
   "metadata": {},
   "outputs": [
    {
     "data": {
      "text/plain": [
       "(24, 2000)"
      ]
     },
     "execution_count": 167,
     "metadata": {},
     "output_type": "execute_result"
    }
   ],
   "source": [
    "training_fold.shape"
   ]
  },
  {
   "cell_type": "code",
   "execution_count": null,
   "metadata": {},
   "outputs": [],
   "source": [
    "testing_fold.shape"
   ]
  },
  {
   "cell_type": "code",
   "execution_count": null,
   "metadata": {
    "collapsed": true
   },
   "outputs": [],
   "source": [
    "repeat_length_training = np.matrix([mal[i] for i in training_i]).reshape(-1, 1)"
   ]
  },
  {
   "cell_type": "code",
   "execution_count": null,
   "metadata": {
    "collapsed": true
   },
   "outputs": [],
   "source": [
    "repeat_length_testing = np.matrix([mal[i] for i in testing_i]).reshape(-1, 1)"
   ]
  },
  {
   "cell_type": "code",
   "execution_count": null,
   "metadata": {},
   "outputs": [],
   "source": [
    "repeat_length_testing.shape"
   ]
  },
  {
   "cell_type": "code",
   "execution_count": null,
   "metadata": {
    "collapsed": true
   },
   "outputs": [],
   "source": [
    "#training_set = choose_top_genes(top_genes, training_fold)\n",
    "#testing_set = choose_top_genes(top_genes, testing_fold)"
   ]
  },
  {
   "cell_type": "code",
   "execution_count": null,
   "metadata": {
    "collapsed": true
   },
   "outputs": [],
   "source": [
    "import matplotlib.pyplot as plt\n",
    "%matplotlib inline"
   ]
  },
  {
   "cell_type": "code",
   "execution_count": null,
   "metadata": {
    "collapsed": true
   },
   "outputs": [],
   "source": [
    "#training_fold[..., 8879]"
   ]
  },
  {
   "cell_type": "code",
   "execution_count": null,
   "metadata": {
    "collapsed": true
   },
   "outputs": [],
   "source": [
    "#len(training_fold[..., 8879].reshape(-1).tolist())"
   ]
  },
  {
   "cell_type": "code",
   "execution_count": 245,
   "metadata": {
    "collapsed": true
   },
   "outputs": [],
   "source": [
    "#len()"
   ]
  },
  {
   "cell_type": "code",
   "execution_count": 246,
   "metadata": {
    "collapsed": true
   },
   "outputs": [],
   "source": [
    "#plt.scatter(repeat_length_training.reshape(-1).tolist()[0], training_fold[..., 8879].reshape(-1).tolist())"
   ]
  },
  {
   "cell_type": "code",
   "execution_count": 247,
   "metadata": {
    "collapsed": true
   },
   "outputs": [],
   "source": [
    "#plt.scatter(repeat_length_testing.reshape(-1).tolist()[0], testing_fold[..., 8879].reshape(-1).tolist())"
   ]
  },
  {
   "cell_type": "code",
   "execution_count": 248,
   "metadata": {},
   "outputs": [
    {
     "data": {
      "text/plain": [
       "(24, 2000)"
      ]
     },
     "execution_count": 248,
     "metadata": {},
     "output_type": "execute_result"
    }
   ],
   "source": [
    "training_fold.shape"
   ]
  },
  {
   "cell_type": "code",
   "execution_count": 249,
   "metadata": {},
   "outputs": [
    {
     "data": {
      "text/plain": [
       "(24, 1)"
      ]
     },
     "execution_count": 249,
     "metadata": {},
     "output_type": "execute_result"
    }
   ],
   "source": [
    "repeat_length_training.shape"
   ]
  },
  {
   "cell_type": "code",
   "execution_count": 256,
   "metadata": {},
   "outputs": [
    {
     "data": {
      "text/plain": [
       "Lasso(alpha=0.01, copy_X=True, fit_intercept=True, max_iter=10000,\n",
       "   normalize=False, positive=False, precompute=False, random_state=None,\n",
       "   selection='cyclic', tol=0.0001, warm_start=False)"
      ]
     },
     "execution_count": 256,
     "metadata": {},
     "output_type": "execute_result"
    }
   ],
   "source": []
  },
  {
   "cell_type": "code",
   "execution_count": 259,
   "metadata": {},
   "outputs": [
    {
     "data": {
      "text/plain": [
       "0.3598934530657103"
      ]
     },
     "execution_count": 259,
     "metadata": {},
     "output_type": "execute_result"
    }
   ],
   "source": []
  },
  {
   "cell_type": "code",
   "execution_count": 260,
   "metadata": {},
   "outputs": [
    {
     "data": {
      "text/plain": [
       "76"
      ]
     },
     "execution_count": 260,
     "metadata": {},
     "output_type": "execute_result"
    }
   ],
   "source": []
  },
  {
   "cell_type": "code",
   "execution_count": 261,
   "metadata": {},
   "outputs": [
    {
     "data": {
      "text/plain": [
       "array([ 881.99621584,  646.99213975,  565.01442858,  437.01267989,\n",
       "        -86.95756412,  859.00103575, 1096.99963579,  837.9909115 ,\n",
       "        663.98545323,   64.99654113,   43.99715824,  376.99495719,\n",
       "        177.01231577,  838.00394629,  709.95678815,  283.03162546,\n",
       "        351.98786501, 1003.97060892,  825.00847619,  414.0013541 ,\n",
       "        155.00747679,  870.99558116,  606.01667373,  395.98369566])"
      ]
     },
     "execution_count": 261,
     "metadata": {},
     "output_type": "execute_result"
    }
   ],
   "source": [
    "lasso.predict(training_fold)"
   ]
  },
  {
   "cell_type": "code",
   "execution_count": null,
   "metadata": {
    "collapsed": true
   },
   "outputs": [],
   "source": []
  },
  {
   "cell_type": "code",
   "execution_count": 254,
   "metadata": {},
   "outputs": [
    {
     "ename": "NameError",
     "evalue": "name 'top_genes' is not defined",
     "output_type": "error",
     "traceback": [
      "\u001b[0;31m---------------------------------------------------------------------------\u001b[0m",
      "\u001b[0;31mNameError\u001b[0m                                 Traceback (most recent call last)",
      "\u001b[0;32m<ipython-input-254-d392f8ba9415>\u001b[0m in \u001b[0;36m<module>\u001b[0;34m()\u001b[0m\n\u001b[1;32m      1\u001b[0m \u001b[0;34m\u001b[0m\u001b[0m\n\u001b[0;32m----> 2\u001b[0;31m \u001b[0mtraining_set\u001b[0m \u001b[0;34m=\u001b[0m \u001b[0mchoose_top_genes\u001b[0m\u001b[0;34m(\u001b[0m\u001b[0mtop_genes\u001b[0m\u001b[0;34m,\u001b[0m \u001b[0mtraining_fold\u001b[0m\u001b[0;34m)\u001b[0m\u001b[0;34m\u001b[0m\u001b[0m\n\u001b[0m\u001b[1;32m      3\u001b[0m \u001b[0mtesting_set\u001b[0m \u001b[0;34m=\u001b[0m \u001b[0mchoose_top_genes\u001b[0m\u001b[0;34m(\u001b[0m\u001b[0mtop_genes\u001b[0m\u001b[0;34m,\u001b[0m \u001b[0mtesting_fold\u001b[0m\u001b[0;34m)\u001b[0m\u001b[0;34m\u001b[0m\u001b[0m\n\u001b[1;32m      4\u001b[0m \u001b[0;34m\u001b[0m\u001b[0m\n\u001b[1;32m      5\u001b[0m \u001b[0;31m#top_genes = order_indicies(repeat_length_training, training_fold)[:no_probes]\u001b[0m\u001b[0;34m\u001b[0m\u001b[0;34m\u001b[0m\u001b[0m\n",
      "\u001b[0;31mNameError\u001b[0m: name 'top_genes' is not defined"
     ]
    }
   ],
   "source": [
    "\n",
    "\n",
    "    \n",
    "results = list(lasso.predict(testing_set.transpose()))\n",
    "    \n",
    "results = [filter_extremes(i, min(repeat_length_training), max(repeat_length_training)) for i in results]\n",
    "\n",
    "repeat_length_testing, results"
   ]
  },
  {
   "cell_type": "code",
   "execution_count": 255,
   "metadata": {
    "collapsed": true
   },
   "outputs": [],
   "source": [
    "model = sklearn.linear_model.LassoCV(alphas=[10**(i) for i in range(-10, 0)])"
   ]
  },
  {
   "cell_type": "code",
   "execution_count": 45,
   "metadata": {},
   "outputs": [
    {
     "name": "stderr",
     "output_type": "stream",
     "text": [
      "/home/picrin/programming/clinical_applications/venv/lib/python3.5/site-packages/sklearn/linear_model/coordinate_descent.py:491: ConvergenceWarning: Objective did not converge. You might want to increase the number of iterations. Fitting data with very small alpha may cause precision problems.\n",
      "  ConvergenceWarning)\n",
      "/home/picrin/programming/clinical_applications/venv/lib/python3.5/site-packages/sklearn/linear_model/coordinate_descent.py:491: ConvergenceWarning: Objective did not converge. You might want to increase the number of iterations. Fitting data with very small alpha may cause precision problems.\n",
      "  ConvergenceWarning)\n"
     ]
    },
    {
     "data": {
      "text/plain": [
       "LassoCV(alphas=[1e-10, 1e-09, 1e-08, 1e-07, 1e-06, 1e-05, 0.0001, 0.001, 0.01, 0.1],\n",
       "    copy_X=True, cv=None, eps=0.001, fit_intercept=True, max_iter=1000,\n",
       "    n_alphas=100, n_jobs=1, normalize=False, positive=False,\n",
       "    precompute='auto', random_state=None, selection='cyclic', tol=0.0001,\n",
       "    verbose=False)"
      ]
     },
     "execution_count": 45,
     "metadata": {},
     "output_type": "execute_result"
    }
   ],
   "source": [
    "model.fit(data, mal)"
   ]
  },
  {
   "cell_type": "code",
   "execution_count": 47,
   "metadata": {},
   "outputs": [
    {
     "data": {
      "text/plain": [
       "0.01"
      ]
     },
     "execution_count": 47,
     "metadata": {},
     "output_type": "execute_result"
    }
   ],
   "source": [
    "model.alpha_"
   ]
  },
  {
   "cell_type": "code",
   "execution_count": 55,
   "metadata": {},
   "outputs": [
    {
     "name": "stdout",
     "output_type": "stream",
     "text": [
      "-5 0.849871069239366\n",
      "-4 0.8498711365149089\n",
      "-3 0.8498716377690497\n",
      "-2 0.8498811591544839\n"
     ]
    },
    {
     "name": "stderr",
     "output_type": "stream",
     "text": [
      "/home/picrin/programming/clinical_applications/venv/lib/python3.5/site-packages/sklearn/linear_model/coordinate_descent.py:491: ConvergenceWarning: Objective did not converge. You might want to increase the number of iterations. Fitting data with very small alpha may cause precision problems.\n",
      "  ConvergenceWarning)\n"
     ]
    },
    {
     "name": "stdout",
     "output_type": "stream",
     "text": [
      "-1 0.8499600165895532\n"
     ]
    },
    {
     "name": "stderr",
     "output_type": "stream",
     "text": [
      "/home/picrin/programming/clinical_applications/venv/lib/python3.5/site-packages/sklearn/linear_model/coordinate_descent.py:491: ConvergenceWarning: Objective did not converge. You might want to increase the number of iterations. Fitting data with very small alpha may cause precision problems.\n",
      "  ConvergenceWarning)\n"
     ]
    }
   ],
   "source": [
    "for i in range(-5, 0):\n",
    "    m = sklearn.linear_model.LassoCV(alphas=[10**(i)], max_iter=3000)\n",
    "    m.fit(data, mal)\n",
    "    print(i, m.score(data, mal))"
   ]
  },
  {
   "cell_type": "code",
   "execution_count": 48,
   "metadata": {
    "collapsed": true
   },
   "outputs": [],
   "source": [
    "data = np.matrix(data)"
   ]
  },
  {
   "cell_type": "code",
   "execution_count": 49,
   "metadata": {},
   "outputs": [
    {
     "data": {
      "text/plain": [
       "array([-1.01676417])"
      ]
     },
     "execution_count": 49,
     "metadata": {},
     "output_type": "execute_result"
    }
   ],
   "source": [
    "model.predict(data[0, ...])"
   ]
  },
  {
   "cell_type": "code",
   "execution_count": 56,
   "metadata": {},
   "outputs": [
    {
     "data": {
      "text/plain": [
       "0.9999999981896337"
      ]
     },
     "execution_count": 56,
     "metadata": {},
     "output_type": "execute_result"
    }
   ],
   "source": [
    "model.score(data, mal)"
   ]
  },
  {
   "cell_type": "code",
   "execution_count": null,
   "metadata": {
    "collapsed": true
   },
   "outputs": [],
   "source": [
    "model.sco"
   ]
  },
  {
   "cell_type": "code",
   "execution_count": null,
   "metadata": {
    "collapsed": true
   },
   "outputs": [],
   "source": [
    "model = sklearn.linear_model.Lasso()"
   ]
  }
 ],
 "metadata": {
  "kernelspec": {
   "display_name": "Python 3 Clinical Applicatoins",
   "language": "python",
   "name": "clinical_applications"
  },
  "language_info": {
   "codemirror_mode": {
    "name": "ipython",
    "version": 3
   },
   "file_extension": ".py",
   "mimetype": "text/x-python",
   "name": "python",
   "nbconvert_exporter": "python",
   "pygments_lexer": "ipython3",
   "version": "3.5.2"
  }
 },
 "nbformat": 4,
 "nbformat_minor": 2
}
