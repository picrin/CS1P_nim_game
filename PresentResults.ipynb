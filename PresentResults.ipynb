{
 "cells": [
  {
   "cell_type": "code",
   "execution_count": 1,
   "metadata": {
    "collapsed": true
   },
   "outputs": [],
   "source": [
    "import json\n",
    "results = {}\n",
    "\n",
    "with open(\"CEL_files/results\") as f:\n",
    "    results= json.load(f)"
   ]
  },
  {
   "cell_type": "code",
   "execution_count": 2,
   "metadata": {},
   "outputs": [
    {
     "data": {
      "text/plain": [
       "{'1024': 0.509765625,\n",
       " '128': 0.484375,\n",
       " '16384': 0.34521484375,\n",
       " '2048': 0.470703125,\n",
       " '22011': 0.33645284390332547,\n",
       " '256': 0.671875,\n",
       " '32': 0.4375,\n",
       " '4096': 0.4248046875,\n",
       " '512': 0.58984375,\n",
       " '64': 0.5625,\n",
       " '8192': 0.393798828125}"
      ]
     },
     "execution_count": 2,
     "metadata": {},
     "output_type": "execute_result"
    }
   ],
   "source": [
    "results[\"results\"]"
   ]
  },
  {
   "cell_type": "code",
   "execution_count": 3,
   "metadata": {},
   "outputs": [
    {
     "data": {
      "text/plain": [
       "{'1024': [0.26953125, 0.28125, 0.275390625],\n",
       " '128': [0.203125, 0.1875, 0.25],\n",
       " '16384': [0.4049072265625, 0.39697265625, 0.405029296875],\n",
       " '2048': [0.2919921875, 0.3017578125, 0.30078125],\n",
       " '22011': [0.4019082235347569, 0.4052703316674239, 0.3996365288505225],\n",
       " '256': [0.3203125, 0.328125, 0.28125],\n",
       " '32': [0.0625, 0.0625, 0.3125],\n",
       " '4096': [0.33935546875, 0.33984375, 0.349609375],\n",
       " '512': [0.2578125, 0.265625, 0.27734375],\n",
       " '64': [0.25, 0.28125, 0.15625],\n",
       " '8192': [0.372314453125, 0.364013671875, 0.3623046875]}"
      ]
     },
     "execution_count": 3,
     "metadata": {},
     "output_type": "execute_result"
    }
   ],
   "source": [
    "results[\"resultsRandom\"]"
   ]
  },
  {
   "cell_type": "markdown",
   "metadata": {},
   "source": [
    "# p-value of the simulation (500 simulated fudge factors) of the distribution of the fraction of improved raw p-values"
   ]
  },
  {
   "cell_type": "code",
   "execution_count": 4,
   "metadata": {
    "collapsed": true
   },
   "outputs": [],
   "source": [
    "def proportion_p_value(value, distribution):\n",
    "    d2 = sorted(distribution)\n",
    "    place = 0\n",
    "    for i, j in enumerate(d2):\n",
    "        if j < value:\n",
    "            place += 1\n",
    "    return 1 - (float(place) / (len(distribution)))"
   ]
  },
  {
   "cell_type": "code",
   "execution_count": 5,
   "metadata": {},
   "outputs": [
    {
     "name": "stdout",
     "output_type": "stream",
     "text": [
      "32 genes DSE existence p-value = 0.0\n",
      "64 genes DSE existence p-value = 0.0\n",
      "128 genes DSE existence p-value = 0.0\n",
      "256 genes DSE existence p-value = 0.0\n",
      "512 genes DSE existence p-value = 0.0\n",
      "1024 genes DSE existence p-value = 0.0\n",
      "2048 genes DSE existence p-value = 0.0\n",
      "4096 genes DSE existence p-value = 0.0\n",
      "8192 genes DSE existence p-value = 0.0\n",
      "16384 genes DSE existence p-value = 1.0\n",
      "22011 genes DSE existence p-value = 1.0\n"
     ]
    }
   ],
   "source": [
    "for key in results[\"results\"]:\n",
    "    value = results[\"results\"][key]\n",
    "    distribution = results[\"resultsRandom\"][key]\n",
    "    print(key, \"genes DSE existence p-value =\", proportion_p_value(value, distribution))"
   ]
  },
  {
   "cell_type": "markdown",
   "metadata": {},
   "source": [
    "# How many genes at FDR of 0.5?"
   ]
  },
  {
   "cell_type": "code",
   "execution_count": 6,
   "metadata": {
    "scrolled": true
   },
   "outputs": [
    {
     "name": "stdout",
     "output_type": "stream",
     "text": [
      "14391 of total 22011\n"
     ]
    }
   ],
   "source": [
    "X = [i for i in results[\"QA\"] if i[0] < 0.5]\n",
    "print(len(X), \"of total\", len(results[\"QA\"]))"
   ]
  },
  {
   "cell_type": "markdown",
   "metadata": {},
   "source": [
    "# Unadjusted p-values"
   ]
  },
  {
   "cell_type": "code",
   "execution_count": 8,
   "metadata": {
    "scrolled": true
   },
   "outputs": [
    {
     "ename": "NameError",
     "evalue": "name 'np' is not defined",
     "output_type": "error",
     "traceback": [
      "\u001b[0;31m--------------------------------------------------------------------\u001b[0m",
      "\u001b[0;31mNameError\u001b[0m                          Traceback (most recent call last)",
      "\u001b[0;32m<ipython-input-8-813f21b92e4b>\u001b[0m in \u001b[0;36m<module>\u001b[0;34m()\u001b[0m\n\u001b[1;32m      7\u001b[0m         \u001b[0mvalues\u001b[0m\u001b[0;34m.\u001b[0m\u001b[0mappend\u001b[0m\u001b[0;34m(\u001b[0m\u001b[0mmath\u001b[0m\u001b[0;34m.\u001b[0m\u001b[0mlog\u001b[0m\u001b[0;34m(\u001b[0m\u001b[0mi\u001b[0m\u001b[0;34m,\u001b[0m \u001b[0;36m10\u001b[0m\u001b[0;34m)\u001b[0m\u001b[0;34m)\u001b[0m\u001b[0;34m\u001b[0m\u001b[0m\n\u001b[1;32m      8\u001b[0m     \u001b[0mfig\u001b[0m \u001b[0;34m=\u001b[0m \u001b[0mplt\u001b[0m\u001b[0;34m.\u001b[0m\u001b[0mfigure\u001b[0m\u001b[0;34m(\u001b[0m\u001b[0;34m)\u001b[0m\u001b[0;34m\u001b[0m\u001b[0m\n\u001b[0;32m----> 9\u001b[0;31m     \u001b[0mplt\u001b[0m\u001b[0;34m.\u001b[0m\u001b[0mstep\u001b[0m\u001b[0;34m(\u001b[0m\u001b[0mvalues\u001b[0m\u001b[0;34m,\u001b[0m \u001b[0mnp\u001b[0m\u001b[0;34m.\u001b[0m\u001b[0marange\u001b[0m\u001b[0;34m(\u001b[0m\u001b[0mlen\u001b[0m\u001b[0;34m(\u001b[0m\u001b[0mvalues\u001b[0m\u001b[0;34m)\u001b[0m\u001b[0;34m)\u001b[0m\u001b[0;34m)\u001b[0m\u001b[0;34m\u001b[0m\u001b[0m\n\u001b[0m\u001b[1;32m     10\u001b[0m     \u001b[0mfig\u001b[0m\u001b[0;34m.\u001b[0m\u001b[0msuptitle\u001b[0m\u001b[0;34m(\u001b[0m\u001b[0mstr\u001b[0m\u001b[0;34m(\u001b[0m\u001b[0mno\u001b[0m\u001b[0;34m)\u001b[0m \u001b[0;34m+\u001b[0m \u001b[0;34m' most significant p-values for '\u001b[0m \u001b[0;34m+\u001b[0m \u001b[0mdataset\u001b[0m \u001b[0;34m+\u001b[0m \u001b[0;34m\" dataset\"\u001b[0m\u001b[0;34m,\u001b[0m \u001b[0mfontsize\u001b[0m\u001b[0;34m=\u001b[0m\u001b[0;36m20\u001b[0m\u001b[0;34m)\u001b[0m\u001b[0;34m\u001b[0m\u001b[0m\n\u001b[1;32m     11\u001b[0m     \u001b[0mplt\u001b[0m\u001b[0;34m.\u001b[0m\u001b[0mylabel\u001b[0m\u001b[0;34m(\u001b[0m\u001b[0;34m'number of genes at a given p-value threshold'\u001b[0m\u001b[0;34m,\u001b[0m \u001b[0mfontsize\u001b[0m\u001b[0;34m=\u001b[0m\u001b[0;36m18\u001b[0m\u001b[0;34m)\u001b[0m\u001b[0;34m\u001b[0m\u001b[0m\n",
      "\u001b[0;31mNameError\u001b[0m: name 'np' is not defined"
     ]
    }
   ],
   "source": [
    "import math\n",
    "import matplotlib.pyplot as plt\n",
    "no = 100\n",
    "for dataset in [\"SEPSIS\"]:\n",
    "    values = []\n",
    "    for i, j in sorted(results[\"QA_P\"][:no]):\n",
    "        values.append(math.log(i, 10))\n",
    "    fig = plt.figure()\n",
    "    plt.step(values, np.arange(len(values)))\n",
    "    fig.suptitle(str(no) + ' most significant p-values for ' + dataset + \" dataset\", fontsize=20)\n",
    "    plt.ylabel('number of genes at a given p-value threshold', fontsize=18)\n",
    "    plt.xlabel('log_10 of p-value threshold.', fontsize=16)\n",
    "    plt.show()"
   ]
  },
  {
   "cell_type": "code",
   "execution_count": null,
   "metadata": {
    "collapsed": true
   },
   "outputs": [],
   "source": []
  }
 ],
 "metadata": {
  "kernelspec": {
   "display_name": "Python 3",
   "language": "python",
   "name": "python3"
  },
  "language_info": {
   "codemirror_mode": {
    "name": "ipython",
    "version": 3
   },
   "file_extension": ".py",
   "mimetype": "text/x-python",
   "name": "python",
   "nbconvert_exporter": "python",
   "pygments_lexer": "ipython3",
   "version": "3.6.2"
  }
 },
 "nbformat": 4,
 "nbformat_minor": 2
}
