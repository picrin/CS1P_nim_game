{
 "cells": [
  {
   "cell_type": "code",
   "execution_count": null,
   "metadata": {
    "collapsed": true
   },
   "outputs": [],
   "source": [
    "# load the oligo library\n",
    "library(oligo)\n",
    "\n",
    "# Read in the CEL files in the directory\n",
    "celFiles <- list.celfiles()\n",
    "print(celFiles)\n",
    "affyRaw <- read.celfiles(celFiles)\n",
    "\n",
    "# RMA-normalise\n",
    "core <- rma(affyRaw)\n",
    "\n",
    "# Finally, save the data to an output file to be used by other programs, etc (Data will be log2 transformed and normalized)\n",
    "write.exprs(core,file=\"core\")"
   ]
  },
  {
   "cell_type": "code",
   "execution_count": 4,
   "metadata": {},
   "outputs": [
    {
     "name": "stderr",
     "output_type": "stream",
     "text": [
      "Platform design info loaded.\n"
     ]
    },
    {
     "name": "stdout",
     "output_type": "stream",
     "text": [
      "Reading in : GSM853700_A01.3227.82.M.CEL\n",
      "Reading in : GSM853701_A02.19217.35.F.CEL\n",
      "Reading in : GSM853702_A03.115.17.M.CEL\n",
      "Reading in : GSM853703_A04.21273.38.F.CEL\n",
      "Reading in : GSM853704_A05.15213.42.M.CEL\n",
      "Reading in : GSM853705_A06.4606.71.M.CEL\n",
      "Reading in : GSM853706_A07.21250.34.M.CEL\n",
      "Reading in : GSM853707_A08.21521.36.M.CEL\n",
      "Reading in : GSM853708_A09.13402.47.F.CEL\n",
      "Reading in : GSM853709_A10.10438.29.F.CEL\n",
      "Reading in : GSM853710_A11.10928.20.F.CEL\n",
      "Reading in : GSM853711_A12.21565.38.F.CEL\n",
      "Reading in : GSM853712_A13.301.43.F.CEL\n",
      "Reading in : GSM853713_A14.21519.24.M.CEL\n",
      "Reading in : GSM853714_A15.13257.43.M.CEL\n",
      "Reading in : GSM853715_A16.1729.82.F.CEL\n",
      "Reading in : GSM853716_A17.7356.17.M.CEL\n",
      "Reading in : GSM853717_A18.21145.31.F.CEL\n",
      "Reading in : GSM853718_A19.1714.53.M.CEL\n",
      "Background correcting\n",
      "Normalizing\n",
      "Calculating Expression\n"
     ]
    }
   ],
   "source": []
  }
 ],
 "metadata": {
  "anaconda-cloud": {},
  "kernelspec": {
   "display_name": "R",
   "language": "R",
   "name": "ir"
  },
  "language_info": {
   "codemirror_mode": "r",
   "file_extension": ".r",
   "mimetype": "text/x-r-source",
   "name": "R",
   "pygments_lexer": "r",
   "version": "3.2.3"
  }
 },
 "nbformat": 4,
 "nbformat_minor": 1
}
