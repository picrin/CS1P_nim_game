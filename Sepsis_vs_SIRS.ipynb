{
 "cells": [
  {
   "cell_type": "markdown",
   "metadata": {},
   "source": [
    "# Analysis of microarry data from patients with Sepsis vs SIRS."
   ]
  },
  {
   "cell_type": "markdown",
   "metadata": {},
   "source": [
    "# Pre-process & RMA Normalise data"
   ]
  },
  {
   "cell_type": "code",
   "execution_count": 1,
   "metadata": {
    "scrolled": true
   },
   "outputs": [
    {
     "name": "stdout",
     "output_type": "stream",
     "text": [
      "['GSM1914873_A0056073_2.CEL', 'GSM1914889_A0056111.CEL', 'GSM1914851_A0056373.CEL', 'GSM1914855_A0056477.CEL', 'GSM1914853_A0056306.CEL', 'GSM1914819_A0056303.CEL', 'GSM1914885_A0056002.CEL', 'GSM1914844_A0057655.CEL', 'GSM1914897_A0055990.CEL', 'GSM1914818_A0056371.CEL', 'GSM1914817_A0062016.CEL', 'GSM1914815_A0057640.CEL', 'GSM1914878_A0056058.CEL', 'GSM1914826_A0056396.CEL', 'GSM1914832_A0056315.CEL', 'GSM1914906_A0056080.CEL', 'GSM1914808_A0057637.CEL', 'GSM1914890_A0055957.CEL', 'GSM1914836_A0062102.CEL', 'GSM1914903_A0056151.CEL', 'GSM1914880_A0056040.CEL', 'GSM1914895_A0056010.CEL', 'GSM1914814_A0056275.CEL', 'GSM1914911_A0056069.CEL', 'GSM1914866_A0056046.CEL', 'GSM1914835_A0062096.CEL', 'GSM1914870_A0056035.CEL', 'GSM1914879_A0056195.CEL', 'GSM1914820_A0056285.CEL', 'GSM1914860_A0056430.CEL', 'GSM1914841_A0057656.CEL', 'GSM1914827_A0062054.CEL', 'GSM1914886_A0055959.CEL', 'GSM1914865_A0056051.CEL', 'GSM1914816_A0062011.CEL', 'GSM1914834_A0056341.CEL', 'GSM1914894_A0056013.CEL', 'GSM1914854_A0056465.CEL', 'GSM1914907_A0056106.CEL', 'GSM1914850_A0056409.CEL', 'GSM1914888_A0056009.CEL', 'GSM1914883_A0055976.CEL', 'GSM1914812_A0056289.CEL', 'GSM1914848_A0056277.CEL', 'GSM1914810_A0057636.CEL', 'GSM1914863_A0056190.CEL', 'GSM1914882_A0055971.CEL', 'GSM1914876_A0056067.CEL', 'GSM1914852_A0057659.CEL', 'GSM1914807_A0061957.CEL', 'GSM1914862_A0061927.CEL', 'GSM1914872_A0056065.CEL', 'GSM1914828_A0056376.CEL', 'GSM1914849_A0056349.CEL', 'GSM1914864_A0056082.CEL', 'GSM1914839_A0057650.CEL', 'GSM1914877_A0056075.CEL', 'GSM1914909_A0056061.CEL', 'GSM1914887_A0055961.CEL', 'GSM1914842_A0057657.CEL', 'GSM1914901_A0055997.CEL', 'GSM1914830_A0056250.CEL', 'GSM1914868_A0056045.CEL', 'GSM1914845_A0057658.CEL', 'GSM1914809_A0057638.CEL', 'GSM1914869_A0056105.CEL', 'GSM1914898_A0056018.CEL', 'GSM1914900_A0062721.CEL', 'GSM1914867_A0056056.CEL', 'GSM1914859_A0056241.CEL', 'GSM1914821_A0056244.CEL', 'GSM1914858_A0061943.CEL', 'GSM1914881_A0055981.CEL', 'GSM1914838_A0056249.CEL', 'GSM1914874_A0056028.CEL', 'GSM1914846_A0057654.CEL', 'GSM1914843_A0056326.CEL', 'GSM1914905_A0056032.CEL', 'GSM1914861_A0062551.CEL', 'GSM1914831_A0056365.CEL', 'GSM1914824_A0056427.CEL', 'GSM1914904_A0056023.CEL', 'GSM1914910_A0056043.CEL', 'GSM1914822_A0057641.CEL', 'GSM1914833_A0056347.CEL', 'GSM1914896_A0055977.CEL', 'GSM1914893_A0056021.CEL', 'GSM1914908_A0056153.CEL', 'GSM1914811_A0056437.CEL', 'GSM1914840_A0057648.CEL', 'GSM1914823_A0057643.CEL', 'GSM1914837_A0057647.CEL', 'GSM1914902_A0055992.CEL', 'GSM1914899_A0055967.CEL', 'GSM1914857_A0061933.CEL', 'GSM1914847_A0056386.CEL', 'GSM1914892_A0056000.CEL', 'GSM1914856_A0056487.CEL', 'GSM1914891_A0055965.CEL', 'GSM1914875_A0056071.CEL', 'GSM1914884_A0056172.CEL', 'GSM1914871_A0056076.CEL', 'GSM1914825_A0056337.CEL', 'GSM1914813_A0061999.CEL', 'GSM1914829_A0056234.CEL']\n"
     ]
    }
   ],
   "source": [
    "import os\n",
    "import os.path\n",
    "import sys\n",
    "sys.argv = [\"\", \"CEL_files\"]\n",
    "CEL_LOCATION = sys.argv[1]\n",
    "\n",
    "CELFILES = os.listdir(CEL_LOCATION)\n",
    "\n",
    "CELFILES = [file for file in CELFILES if file.split(\".\")[-1].lower() == \"cel\"]\n",
    "\n",
    "print(CELFILES)"
   ]
  },
  {
   "cell_type": "code",
   "execution_count": 2,
   "metadata": {
    "collapsed": true
   },
   "outputs": [],
   "source": [
    "# Set up matplotlib\n",
    "import matplotlib as mpl\n",
    "import matplotlib.pyplot as plt\n",
    "\n",
    "#%matplotlib inline"
   ]
  },
  {
   "cell_type": "code",
   "execution_count": 3,
   "metadata": {},
   "outputs": [
    {
     "name": "stdout",
     "output_type": "stream",
     "text": [
      "core file exists\n"
     ]
    }
   ],
   "source": [
    "# Carry out RMA normalisation on all CEL files. Write output to core file.\n",
    "# Caution: RMA data is NOT quantile-normalised.\n",
    "# This step takes a few minutes (unless core file already exists).\n",
    "\n",
    "import utils\n",
    "corefile =  os.path.join(CEL_LOCATION, \"core\")\n",
    "try:\n",
    "    with open(corefile, \"rb\") as f:\n",
    "        print(\"core file exists\")\n",
    "except FileNotFoundError:\n",
    "    utils.executeNotebook(\"normalise.ipynb\", CEL_LOCATION)\n",
    "    print(\"core file created\")"
   ]
  },
  {
   "cell_type": "code",
   "execution_count": 4,
   "metadata": {},
   "outputs": [],
   "source": [
    "ID_TO_REPEAT = {}\n",
    "ID_TO_SEX = {}\n",
    "with open(\"CEL_files/features.txt\") as f:\n",
    "    for line in f:\n",
    "        line = line.rstrip()\n",
    "        file_name, status = line.split(\"\\t\")\n",
    "        if any([file_name in actual_file_name for actual_file_name in CELFILES]):\n",
    "            status, sample_id = status.split(\"_\")\n",
    "            unique_id = status + sample_id\n",
    "            integer = 0\n",
    "            if status == \"Sepsis\":\n",
    "                integer = 0\n",
    "            elif status == \"SIRS\":\n",
    "                integer = 1\n",
    "            else:\n",
    "                raise ValueError(\"wtf?\")\n",
    "            ID_TO_REPEAT[file_name] = integer\n",
    "            ID_TO_SEX[file_name] = \"M\"\n",
    "        else:\n",
    "            print(\"where is\", file_name)"
   ]
  },
  {
   "cell_type": "code",
   "execution_count": 5,
   "metadata": {},
   "outputs": [
    {
     "data": {
      "text/plain": [
       "{'GSM1914807': 0,\n",
       " 'GSM1914808': 0,\n",
       " 'GSM1914809': 0,\n",
       " 'GSM1914810': 0,\n",
       " 'GSM1914811': 0,\n",
       " 'GSM1914812': 0,\n",
       " 'GSM1914813': 0,\n",
       " 'GSM1914814': 0,\n",
       " 'GSM1914815': 0,\n",
       " 'GSM1914816': 0,\n",
       " 'GSM1914817': 0,\n",
       " 'GSM1914818': 0,\n",
       " 'GSM1914819': 0,\n",
       " 'GSM1914820': 0,\n",
       " 'GSM1914821': 0,\n",
       " 'GSM1914822': 0,\n",
       " 'GSM1914823': 0,\n",
       " 'GSM1914824': 0,\n",
       " 'GSM1914825': 0,\n",
       " 'GSM1914826': 0,\n",
       " 'GSM1914827': 0,\n",
       " 'GSM1914828': 0,\n",
       " 'GSM1914829': 0,\n",
       " 'GSM1914830': 0,\n",
       " 'GSM1914831': 0,\n",
       " 'GSM1914832': 0,\n",
       " 'GSM1914833': 0,\n",
       " 'GSM1914834': 0,\n",
       " 'GSM1914835': 0,\n",
       " 'GSM1914836': 0,\n",
       " 'GSM1914837': 0,\n",
       " 'GSM1914838': 0,\n",
       " 'GSM1914839': 0,\n",
       " 'GSM1914840': 0,\n",
       " 'GSM1914841': 0,\n",
       " 'GSM1914842': 0,\n",
       " 'GSM1914843': 0,\n",
       " 'GSM1914844': 0,\n",
       " 'GSM1914845': 0,\n",
       " 'GSM1914846': 0,\n",
       " 'GSM1914847': 0,\n",
       " 'GSM1914848': 0,\n",
       " 'GSM1914849': 0,\n",
       " 'GSM1914850': 0,\n",
       " 'GSM1914851': 0,\n",
       " 'GSM1914852': 0,\n",
       " 'GSM1914853': 0,\n",
       " 'GSM1914854': 0,\n",
       " 'GSM1914855': 0,\n",
       " 'GSM1914856': 0,\n",
       " 'GSM1914857': 0,\n",
       " 'GSM1914858': 0,\n",
       " 'GSM1914859': 0,\n",
       " 'GSM1914860': 0,\n",
       " 'GSM1914861': 0,\n",
       " 'GSM1914862': 0,\n",
       " 'GSM1914863': 0,\n",
       " 'GSM1914864': 0,\n",
       " 'GSM1914865': 0,\n",
       " 'GSM1914866': 0,\n",
       " 'GSM1914867': 0,\n",
       " 'GSM1914868': 0,\n",
       " 'GSM1914869': 0,\n",
       " 'GSM1914870': 0,\n",
       " 'GSM1914871': 0,\n",
       " 'GSM1914872': 0,\n",
       " 'GSM1914873': 0,\n",
       " 'GSM1914874': 0,\n",
       " 'GSM1914875': 0,\n",
       " 'GSM1914876': 0,\n",
       " 'GSM1914877': 0,\n",
       " 'GSM1914878': 0,\n",
       " 'GSM1914879': 0,\n",
       " 'GSM1914880': 0,\n",
       " 'GSM1914881': 1,\n",
       " 'GSM1914882': 1,\n",
       " 'GSM1914883': 1,\n",
       " 'GSM1914884': 1,\n",
       " 'GSM1914885': 1,\n",
       " 'GSM1914886': 1,\n",
       " 'GSM1914887': 1,\n",
       " 'GSM1914888': 1,\n",
       " 'GSM1914889': 1,\n",
       " 'GSM1914890': 1,\n",
       " 'GSM1914891': 1,\n",
       " 'GSM1914892': 1,\n",
       " 'GSM1914893': 1,\n",
       " 'GSM1914894': 1,\n",
       " 'GSM1914895': 1,\n",
       " 'GSM1914896': 1,\n",
       " 'GSM1914897': 1,\n",
       " 'GSM1914898': 1,\n",
       " 'GSM1914899': 1,\n",
       " 'GSM1914900': 1,\n",
       " 'GSM1914901': 1,\n",
       " 'GSM1914902': 1,\n",
       " 'GSM1914903': 1,\n",
       " 'GSM1914904': 1,\n",
       " 'GSM1914905': 1,\n",
       " 'GSM1914906': 1,\n",
       " 'GSM1914907': 1,\n",
       " 'GSM1914908': 1,\n",
       " 'GSM1914909': 1,\n",
       " 'GSM1914910': 1,\n",
       " 'GSM1914911': 1}"
      ]
     },
     "execution_count": 5,
     "metadata": {},
     "output_type": "execute_result"
    }
   ],
   "source": [
    "ID_TO_REPEAT"
   ]
  },
  {
   "cell_type": "code",
   "execution_count": 6,
   "metadata": {
    "collapsed": true
   },
   "outputs": [],
   "source": [
    "ID_TO_COLUMN = {}\n",
    "with open(corefile, \"r\") as file:\n",
    "    for line in file:\n",
    "        for column, person in enumerate(line.rstrip().split(\"\\t\")):\n",
    "            if person:\n",
    "                ID_TO_COLUMN[person.split(\"_\")[0]] = column \n",
    "        break"
   ]
  },
  {
   "cell_type": "code",
   "execution_count": 7,
   "metadata": {},
   "outputs": [
    {
     "data": {
      "text/plain": [
       "{'GSM1914807': 1,\n",
       " 'GSM1914808': 2,\n",
       " 'GSM1914809': 3,\n",
       " 'GSM1914810': 4,\n",
       " 'GSM1914811': 5,\n",
       " 'GSM1914812': 6,\n",
       " 'GSM1914813': 7,\n",
       " 'GSM1914814': 8,\n",
       " 'GSM1914815': 9,\n",
       " 'GSM1914816': 10,\n",
       " 'GSM1914817': 11,\n",
       " 'GSM1914818': 12,\n",
       " 'GSM1914819': 13,\n",
       " 'GSM1914820': 14,\n",
       " 'GSM1914821': 15,\n",
       " 'GSM1914822': 16,\n",
       " 'GSM1914823': 17,\n",
       " 'GSM1914824': 18,\n",
       " 'GSM1914825': 19,\n",
       " 'GSM1914826': 20,\n",
       " 'GSM1914827': 21,\n",
       " 'GSM1914828': 22,\n",
       " 'GSM1914829': 23,\n",
       " 'GSM1914830': 24,\n",
       " 'GSM1914831': 25,\n",
       " 'GSM1914832': 26,\n",
       " 'GSM1914833': 27,\n",
       " 'GSM1914834': 28,\n",
       " 'GSM1914835': 29,\n",
       " 'GSM1914836': 30,\n",
       " 'GSM1914837': 31,\n",
       " 'GSM1914838': 32,\n",
       " 'GSM1914839': 33,\n",
       " 'GSM1914840': 34,\n",
       " 'GSM1914841': 35,\n",
       " 'GSM1914842': 36,\n",
       " 'GSM1914843': 37,\n",
       " 'GSM1914844': 38,\n",
       " 'GSM1914845': 39,\n",
       " 'GSM1914846': 40,\n",
       " 'GSM1914847': 41,\n",
       " 'GSM1914848': 42,\n",
       " 'GSM1914849': 43,\n",
       " 'GSM1914850': 44,\n",
       " 'GSM1914851': 45,\n",
       " 'GSM1914852': 46,\n",
       " 'GSM1914853': 47,\n",
       " 'GSM1914854': 48,\n",
       " 'GSM1914855': 49,\n",
       " 'GSM1914856': 50,\n",
       " 'GSM1914857': 51,\n",
       " 'GSM1914858': 52,\n",
       " 'GSM1914859': 53,\n",
       " 'GSM1914860': 54,\n",
       " 'GSM1914861': 55,\n",
       " 'GSM1914862': 56,\n",
       " 'GSM1914863': 57,\n",
       " 'GSM1914864': 58,\n",
       " 'GSM1914865': 59,\n",
       " 'GSM1914866': 60,\n",
       " 'GSM1914867': 61,\n",
       " 'GSM1914868': 62,\n",
       " 'GSM1914869': 63,\n",
       " 'GSM1914870': 64,\n",
       " 'GSM1914871': 65,\n",
       " 'GSM1914872': 66,\n",
       " 'GSM1914873': 67,\n",
       " 'GSM1914874': 68,\n",
       " 'GSM1914875': 69,\n",
       " 'GSM1914876': 70,\n",
       " 'GSM1914877': 71,\n",
       " 'GSM1914878': 72,\n",
       " 'GSM1914879': 73,\n",
       " 'GSM1914880': 74,\n",
       " 'GSM1914881': 75,\n",
       " 'GSM1914882': 76,\n",
       " 'GSM1914883': 77,\n",
       " 'GSM1914884': 78,\n",
       " 'GSM1914885': 79,\n",
       " 'GSM1914886': 80,\n",
       " 'GSM1914887': 81,\n",
       " 'GSM1914888': 82,\n",
       " 'GSM1914889': 83,\n",
       " 'GSM1914890': 84,\n",
       " 'GSM1914891': 85,\n",
       " 'GSM1914892': 86,\n",
       " 'GSM1914893': 87,\n",
       " 'GSM1914894': 88,\n",
       " 'GSM1914895': 89,\n",
       " 'GSM1914896': 90,\n",
       " 'GSM1914897': 91,\n",
       " 'GSM1914898': 92,\n",
       " 'GSM1914899': 93,\n",
       " 'GSM1914900': 94,\n",
       " 'GSM1914901': 95,\n",
       " 'GSM1914902': 96,\n",
       " 'GSM1914903': 97,\n",
       " 'GSM1914904': 98,\n",
       " 'GSM1914905': 99,\n",
       " 'GSM1914906': 100,\n",
       " 'GSM1914907': 101,\n",
       " 'GSM1914908': 102,\n",
       " 'GSM1914909': 103,\n",
       " 'GSM1914910': 104,\n",
       " 'GSM1914911': 105}"
      ]
     },
     "execution_count": 7,
     "metadata": {},
     "output_type": "execute_result"
    }
   ],
   "source": [
    "ID_TO_COLUMN"
   ]
  },
  {
   "cell_type": "code",
   "execution_count": 8,
   "metadata": {
    "collapsed": true
   },
   "outputs": [],
   "source": [
    "with open(CEL_LOCATION + \"/header\", \"w\") as f:\n",
    "    f.write(\"IDs\")\n",
    "    for ida in ID_TO_COLUMN:\n",
    "        f.write(\"\\t\")\n",
    "        f.write(ida)\n",
    "    f.write(\"\\n\")\n",
    "    f.write(\"ModalAllele\")\n",
    "    for ida in ID_TO_COLUMN:\n",
    "        f.write(\"\\t\")\n",
    "        f.write(str(ID_TO_REPEAT[ida]))\n",
    "    f.write(\"\\n\")\n",
    "    f.write(\"GENDER\")\n",
    "    for ida in ID_TO_COLUMN:\n",
    "        f.write(\"\\t\")\n",
    "        f.write(ID_TO_SEX[ida])\n",
    "    f.write(\"\\n\")\n",
    "    f.write(\"Affymetrix\\n\")"
   ]
  },
  {
   "cell_type": "code",
   "execution_count": 9,
   "metadata": {},
   "outputs": [
    {
     "data": {
      "text/plain": [
       "CompletedProcess(args='tail -n +2 CEL_files/core  | cat CEL_files/header - > CEL_files/cleaned', returncode=0)"
      ]
     },
     "execution_count": 9,
     "metadata": {},
     "output_type": "execute_result"
    }
   ],
   "source": [
    "import subprocess\n",
    "#with open(\"cleaned\", \"wb\") as f:\n",
    "subprocess.run(\"tail -n +2 \" + CEL_LOCATION + \"/core  | cat \" + CEL_LOCATION + \"/header - > \" + CEL_LOCATION + \"/cleaned\", shell=True)"
   ]
  },
  {
   "cell_type": "markdown",
   "metadata": {},
   "source": [
    "## pre-processing & normalisation finished. File `cleaned` written to hard drive in current working directory."
   ]
  },
  {
   "cell_type": "markdown",
   "metadata": {},
   "source": [
    "# Analyse the data using Numpy\n",
    "\n",
    "1. Fit Modal allele length to each gene using ordinary linear regression.\n",
    "2. Expose the primary dataset as `CLEANED` residuals as `RESIDUALS`, Existence of Individuals Specific Effects as `RESIDUALS_PVALUES`, and Individual Specific Effects as `ISEs` and Modal Allele length as `MODAL_ALLELE`."
   ]
  },
  {
   "cell_type": "code",
   "execution_count": 10,
   "metadata": {
    "collapsed": true
   },
   "outputs": [],
   "source": [
    "# Load file `cleaned` back into python\n",
    "\n",
    "import numpy as np\n",
    "import scipy.stats\n",
    "\n",
    "filename = CEL_LOCATION + \"/cleaned\"\n",
    "with open(filename) as f:\n",
    "    rowID = None\n",
    "    skipCount = 0\n",
    "    while rowID != \"Affymetrix\":\n",
    "        line = f.readline().rstrip().split()\n",
    "        skipCount += 1\n",
    "        rowID = line[0]\n",
    "        if rowID == \"IDs\":\n",
    "            columns = range(len(line))[1:]\n",
    "            ids = line[1:]\n",
    "        if rowID == \"ModalAllele\":\n",
    "            MODAL_ALLELE = [int(i) for i in line[1:]]\n",
    "        if rowID == \"GENDER\":\n",
    "            SEX = [i for i in line[1:]]\n",
    "\n",
    "T_CLUSTER_IDS = []\n",
    "\n",
    "MAP_T_CLUSTER_INDEX = {}\n",
    "\n",
    "read = False\n",
    "with open(CEL_LOCATION + \"/cleaned\") as f:\n",
    "    lines = f.readlines()\n",
    "    i = 0\n",
    "    for line in lines:\n",
    "        line = line.rstrip().split(\"\\t\")\n",
    "        if read:\n",
    "            T_CLUSTER_IDS.append(line[0])\n",
    "            MAP_T_CLUSTER_INDEX[line[0]] = i\n",
    "            i += 1\n",
    "        if line:\n",
    "            if line[0] == \"Affymetrix\":\n",
    "                read = True\n",
    "with open(filename) as f:\n",
    "    CLEANED = np.loadtxt(f, delimiter=\"\\t\", skiprows=skipCount, usecols=columns)"
   ]
  },
  {
   "cell_type": "code",
   "execution_count": 11,
   "metadata": {
    "collapsed": true
   },
   "outputs": [],
   "source": [
    "def numpyAnalysis(CLEANED):\n",
    "    RESIDUALS = np.zeros_like(CLEANED)\n",
    "\n",
    "    rowNo, columnNo = CLEANED.shape\n",
    "\n",
    "    GENE_PVALUES = []\n",
    "\n",
    "    for i in range(rowNo):\n",
    "        slope, intercept, r_value, p_value, _ = scipy.stats.linregress(MODAL_ALLELE, list(CLEANED[i]))\n",
    "        GENE_PVALUES.append(p_value)\n",
    "        expected = [slope * value + intercept for value in MODAL_ALLELE]\n",
    "        residuals = [actual - expected for actual, expected in zip(CLEANED[i], expected)]\n",
    "        for j, residual in enumerate(residuals):\n",
    "            RESIDUALS[i][j] = residual\n",
    "\n",
    "    RESIDUALS_PVALUES = []\n",
    "    ISEs = []\n",
    "    for i in range(columnNo):\n",
    "        p_value = scipy.stats.ttest_1samp(RESIDUALS[..., i], 0)[1]\n",
    "        ISEs.append(sum(RESIDUALS[..., i])/rowNo)\n",
    "        RESIDUALS_PVALUES.append(p_value)\n",
    "    return (CLEANED, RESIDUALS, RESIDUALS_PVALUES, MODAL_ALLELE, ISEs, GENE_PVALUES)"
   ]
  },
  {
   "cell_type": "code",
   "execution_count": 12,
   "metadata": {
    "collapsed": true
   },
   "outputs": [],
   "source": [
    "NON_ADJUSTED = numpyAnalysis(CLEANED)\n",
    "\n",
    "CLEANED, RESIDUALS, RESIDUALS_PVALUES, MODAL_ALLELE, ISEs, GENE_PVALUES = NON_ADJUSTED\n",
    "\n",
    "_ = CLEANED # RMA normalised Affymetrix data\n",
    "_ = RESIDUALS # Residuals computed from MODAL_ALLELE\n",
    "_ = RESIDUALS_PVALUES # Existence of Individual Specific Effects (ISEs).\n",
    "_ = MODAL_ALLELE # Modal allele length\n",
    "_ = ISEs # Individual Specific Effects.\n",
    "_ = GENE_PVALUES # P-value for each gene"
   ]
  },
  {
   "cell_type": "markdown",
   "metadata": {},
   "source": [
    "## Mean-normalisation."
   ]
  },
  {
   "cell_type": "code",
   "execution_count": 13,
   "metadata": {},
   "outputs": [
    {
     "name": "stdout",
     "output_type": "stream",
     "text": [
      "[7.0978029573885975, 7.1223244702828481, 7.129354537327238, 7.111849023028542, 7.1544707793368518]\n"
     ]
    }
   ],
   "source": [
    "# First, compute MEAN_GENE_ADJUSTMENTS\n",
    "\n",
    "MEAN_GEL = [] # mean gene expression levels, per individual.\n",
    "\n",
    "for i in range(CLEANED.shape[1]):\n",
    "    MEAN_GEL.append(sum(CLEANED[...,i])/CLEANED.shape[0])\n",
    "MEAN_MEAN_GEL = sum(MEAN_GEL)/len(MEAN_GEL)\n",
    "\n",
    "MEAN_GENE_ADJUSTMENT = []\n",
    "\n",
    "for k in range(len(MEAN_GEL)):\n",
    "    MEAN_GENE_ADJUSTMENT.append(MEAN_GEL[k] - MEAN_MEAN_GEL)\n",
    "\n",
    "print(MEAN_GEL[:5])"
   ]
  },
  {
   "cell_type": "code",
   "execution_count": 14,
   "metadata": {
    "collapsed": true
   },
   "outputs": [],
   "source": [
    "# Then, compute ADJUSTED_CLEANED\n",
    "\n",
    "ADJUSTED_CLEANED = np.copy(CLEANED)\n",
    "for i in range(CLEANED.shape[0]):\n",
    "    for j in range(CLEANED.shape[1]):\n",
    "        ADJUSTED_CLEANED[i][j] -= MEAN_GENE_ADJUSTMENT[j]\n",
    "\n",
    "adjusted_means = []\n",
    "\n",
    "for j in range(ADJUSTED_CLEANED.shape[1]):\n",
    "    adjusted_means.append(sum(ADJUSTED_CLEANED[:,j])/ADJUSTED_CLEANED.shape[0])"
   ]
  },
  {
   "cell_type": "code",
   "execution_count": 15,
   "metadata": {
    "collapsed": true
   },
   "outputs": [],
   "source": [
    "MEAN_ADJUSTED = numpyAnalysis(ADJUSTED_CLEANED)"
   ]
  },
  {
   "cell_type": "markdown",
   "metadata": {},
   "source": [
    "## Quantile normalisation"
   ]
  },
  {
   "cell_type": "code",
   "execution_count": 16,
   "metadata": {
    "collapsed": true
   },
   "outputs": [],
   "source": [
    "def sortDist(d):\n",
    "    sortedd = [(v, i) for i, v in enumerate(d)]\n",
    "    sortedd.sort()\n",
    "    return sortedd\n",
    "\n",
    "def avgDist(*args):\n",
    "    toReturn = []\n",
    "    for tuplas in zip(*args):\n",
    "        toAdd = float(0)\n",
    "        for v, _ in tuplas:\n",
    "            toAdd += v\n",
    "        toAdd /= len(tuplas)\n",
    "        toReturn.append(toAdd)\n",
    "    return toReturn\n",
    "\n",
    "def quantileNormalise(*args):\n",
    "    args = [sortDist(d) for d in args]\n",
    "    avgd = avgDist(*args)\n",
    "    toReturn = []\n",
    "    for dist in args:\n",
    "        normDist = [(i, a) for a, (v, i) in zip(avgd, dist)]\n",
    "        normDist.sort()\n",
    "        normDist = [j for (i, j) in normDist]\n",
    "        toReturn.append(normDist)\n",
    "    return toReturn\n",
    "\n",
    "d1 = [10, 9, 11, 23]\n",
    "d2 = [4, 6, 7, 5]\n",
    "\n",
    "assert(quantileNormalise(d1, d2) == [[7.5, 6.5, 8.5, 15], [6.5, 8.5, 15, 7.5]])\n",
    "\n",
    "distributions = []\n",
    "\n",
    "for i in range(CLEANED.shape[1]):\n",
    "    distributions.append(CLEANED[...,i])\n",
    "\n",
    "QUANT_NORM = quantileNormalise(*distributions)"
   ]
  },
  {
   "cell_type": "code",
   "execution_count": 17,
   "metadata": {
    "collapsed": true
   },
   "outputs": [],
   "source": [
    "cleanedQuant = np.zeros_like(CLEANED)\n",
    "for i, dist in enumerate(QUANT_NORM):\n",
    "    for j, value in enumerate(dist):\n",
    "        cleanedQuant[j][i] = value"
   ]
  },
  {
   "cell_type": "code",
   "execution_count": 18,
   "metadata": {
    "collapsed": true
   },
   "outputs": [],
   "source": [
    "QUANT_ADJUSTED = numpyAnalysis(cleanedQuant)"
   ]
  },
  {
   "cell_type": "markdown",
   "metadata": {},
   "source": [
    "# Gene significance using Benjamini-Hochberg\n",
    "\n",
    "## first, load transcription cluster ids from `cleaned`"
   ]
  },
  {
   "cell_type": "code",
   "execution_count": 19,
   "metadata": {
    "collapsed": true
   },
   "outputs": [],
   "source": [
    "ADJUSTED_CLEANED, ADJUSTED_RESIDUALS, ADJUSTED_RESIDUALS_PVALUES, ADJUSTED_MODAL_ALLELE, ADJUSTED_ISEs, ADJUSTED_GENE_PVALUES = MEAN_ADJUSTED"
   ]
  },
  {
   "cell_type": "code",
   "execution_count": 20,
   "metadata": {
    "collapsed": true
   },
   "outputs": [],
   "source": [
    "def computeBenjhoch(ADJUSTED):\n",
    "    benjhoch = list(zip(ADJUSTED[5], T_CLUSTER_IDS))\n",
    "    benjhoch.sort()\n",
    "\n",
    "    m = len(benjhoch)\n",
    "    k = range(1, len(benjhoch) + 1)\n",
    "    sortedGenes = [((a[0] * m)/(b), a[1]) for a, b in zip(benjhoch, k)]\n",
    "    currentMin = sortedGenes[-1][0]\n",
    "    processedGenesRev = []\n",
    "    for (FDR, gene) in sortedGenes[::-1]:\n",
    "        if FDR < currentMin:\n",
    "            currentMin = FDR\n",
    "        processedGenesRev.append((currentMin, gene))\n",
    "    processedGenes = processedGenesRev[::-1]\n",
    "    return processedGenes\n",
    "\n",
    "def kSig(ADJUSTED, k):\n",
    "    return [(i + 1, h, j) for (i, (j, h)) in enumerate(computeBenjhoch(ADJUSTED)[:k])]"
   ]
  },
  {
   "cell_type": "code",
   "execution_count": 21,
   "metadata": {
    "collapsed": true
   },
   "outputs": [],
   "source": [
    "def computeP(ADJUSTED):\n",
    "    p = list(zip(ADJUSTED[5], T_CLUSTER_IDS))\n",
    "    p.sort()\n",
    "    return p"
   ]
  },
  {
   "cell_type": "code",
   "execution_count": 22,
   "metadata": {},
   "outputs": [
    {
     "data": {
      "text/plain": [
       "[5.9314773816719163e-18,\n",
       " 5.3298423222661075e-16,\n",
       " 7.8969624306096489e-16,\n",
       " 1.9875414770489094e-14,\n",
       " 4.6760916774026729e-14,\n",
       " 5.1419816228520709e-14,\n",
       " 7.1976946599280181e-14,\n",
       " 7.7566068202724535e-14,\n",
       " 1.7041486747318418e-13,\n",
       " 1.8114855082012036e-13]"
      ]
     },
     "execution_count": 22,
     "metadata": {},
     "output_type": "execute_result"
    }
   ],
   "source": [
    "sorted(ADJUSTED_GENE_PVALUES)[:10]"
   ]
  },
  {
   "cell_type": "markdown",
   "metadata": {},
   "source": [
    "## Or give a list of transcription clusters with FDR of 50%"
   ]
  },
  {
   "cell_type": "code",
   "execution_count": 23,
   "metadata": {},
   "outputs": [
    {
     "name": "stdout",
     "output_type": "stream",
     "text": [
      "number of genes at alpha 0.5 is 14391\n"
     ]
    },
    {
     "data": {
      "text/plain": [
       "14391"
      ]
     },
     "execution_count": 23,
     "metadata": {},
     "output_type": "execute_result"
    }
   ],
   "source": [
    "def genesForAlpha(processedGenes, alpha):\n",
    "    lista = []\n",
    "    for i, (FDR, ida) in enumerate(processedGenes):\n",
    "        if FDR < alpha:\n",
    "            lista.append((FDR, ida))\n",
    "        else:\n",
    "            break\n",
    "    return lista\n",
    "\n",
    "alpha = 0.5\n",
    "sigGenes = genesForAlpha(computeBenjhoch(QUANT_ADJUSTED), alpha)\n",
    "noSigGenes = len(sigGenes)\n",
    "print(\"number of genes at alpha\", alpha, \"is\", noSigGenes)\n",
    "len(sigGenes)"
   ]
  },
  {
   "cell_type": "code",
   "execution_count": 24,
   "metadata": {},
   "outputs": [
    {
     "data": {
      "text/plain": [
       "[(5.8077529778861744e-13, '2485112'),\n",
       " (2.3794757237000386e-12, '2775909'),\n",
       " (2.3794757237000386e-12, '3342426'),\n",
       " (4.7924583448426026e-11, '3033397'),\n",
       " (4.7924583448426026e-11, '3333309'),\n",
       " (4.7924583448426026e-11, '3978518'),\n",
       " (4.7924583448426026e-11, '3345157'),\n",
       " (4.7924583448426026e-11, '3113202'),\n",
       " (1.4321220562524681e-10, '2948648'),\n",
       " (2.5593218312115357e-10, '3528013')]"
      ]
     },
     "execution_count": 24,
     "metadata": {},
     "output_type": "execute_result"
    }
   ],
   "source": [
    "computeBenjhoch(QUANT_ADJUSTED)[:10]"
   ]
  },
  {
   "cell_type": "code",
   "execution_count": 25,
   "metadata": {},
   "outputs": [],
   "source": [
    "#sorted(QUANT_ADJUSTED[5])[0] * len(QUANT_ADJUSTED[5])"
   ]
  },
  {
   "cell_type": "markdown",
   "metadata": {},
   "source": [
    "# Disease Specific Effects\n",
    "\n",
    "## Let us partition k most significant genes and adjust them for DSE to check if it helps improve significance.\n"
   ]
  },
  {
   "cell_type": "code",
   "execution_count": 26,
   "metadata": {
    "collapsed": true
   },
   "outputs": [],
   "source": [
    "def computeDSE(CLEANED, RESIDUALS, genesA, genesB):\n",
    "    DSE = [0] * CLEANED.shape[1]\n",
    "    relevantGenesAIndex = [MAP_T_CLUSTER_INDEX[t_cluster_id] for _, t_cluster_id in genesA]\n",
    "    relevantGenesBIndex = [MAP_T_CLUSTER_INDEX[t_cluster_id] for _, t_cluster_id in genesB]\n",
    "\n",
    "    for i in range(CLEANED.shape[1]):\n",
    "        relevantResiduals = [RESIDUALS[j,i] for j in relevantGenesAIndex]\n",
    "        DSE[i] = sum(relevantResiduals)/len(relevantResiduals)\n",
    "\n",
    "    # copy CLEANED into another array\n",
    "    DSE_ADJUSTED = np.copy(CLEANED)\n",
    "\n",
    "    # adjust genes in set B with DSEs computed from genes in set A\n",
    "    for i in relevantGenesBIndex:\n",
    "        for j in range(CLEANED.shape[1]):\n",
    "            DSE_ADJUSTED[i][j] -= DSE[j]\n",
    "    return DSE_ADJUSTED, relevantGenesBIndex\n",
    "\n",
    "def computeReverseDSE(CLEANED, RESIDUALS, genesA, genesB):\n",
    "    DSE = [0] * CLEANED.shape[1]\n",
    "    relevantGenesAIndex = [MAP_T_CLUSTER_INDEX[t_cluster_id] for _, t_cluster_id in genesA]\n",
    "    relevantGenesBIndex = [MAP_T_CLUSTER_INDEX[t_cluster_id] for _, t_cluster_id in genesB]\n",
    "\n",
    "    for i in range(CLEANED.shape[1]):\n",
    "        relevantResiduals = [RESIDUALS[j,i] for j in relevantGenesAIndex]\n",
    "        DSE[i] = sum(relevantResiduals)/len(relevantResiduals)\n",
    "\n",
    "    # copy CLEANED into another array\n",
    "    DSE_ADJUSTED = np.copy(CLEANED)\n",
    "\n",
    "    # adjust genes in set B with DSEs computed from genes in set A\n",
    "    for i in relevantGenesBIndex:\n",
    "        for j in range(CLEANED.shape[1]):\n",
    "            DSE_ADJUSTED[i][j] += DSE[j]\n",
    "    return DSE_ADJUSTED, relevantGenesBIndex\n",
    "\n",
    "def fractionImprovedPValues(GENE_PVALUES, GENE_PVALUES_B, relevantGenesBIndex):\n",
    "    previousPValues = [GENE_PVALUES[i] for i in relevantGenesBIndex]\n",
    "    currentPValues = [GENE_PVALUES_B[i] for i in relevantGenesBIndex]\n",
    "    countSmaller = 0\n",
    "    #print(previousPValues, currentPValues)\n",
    "    for i, _ in enumerate(relevantGenesBIndex):\n",
    "        if (currentPValues[i] < previousPValues[i]):\n",
    "            countSmaller += 1\n",
    "    return countSmaller/len(currentPValues)\n",
    "\n",
    "def check_DSE(x, DATASET, reverse = False):\n",
    "    compute = computeDSE\n",
    "    if reverse:\n",
    "        compute = computeReverseDSE\n",
    "    genes = list(zip(DATASET[5], T_CLUSTER_IDS))\n",
    "    genes.sort()\n",
    "    genesA = genes[:x//2]\n",
    "    genesB = genes[x//2:x]\n",
    "    DSE_ADJUSTED, relevantGenesBIndex = compute(DATASET[0], DATASET[1], genesA, genesB)\n",
    "    ADJUSTED_DATASET = numpyAnalysis(DSE_ADJUSTED)\n",
    "    fractionImproved = fractionImprovedPValues(DATASET[5], ADJUSTED_DATASET[5], relevantGenesBIndex)\n",
    "    return fractionImproved"
   ]
  },
  {
   "cell_type": "code",
   "execution_count": 27,
   "metadata": {
    "collapsed": true
   },
   "outputs": [],
   "source": [
    "import random\n",
    "def check_DSE_random(x, DATASET):\n",
    "    genes = list(zip(DATASET[5], T_CLUSTER_IDS))\n",
    "    genes.sort()\n",
    "    genesA = genes[:x//2]\n",
    "    randomFudge = genes[:]\n",
    "    random.shuffle(randomFudge)\n",
    "    randomFudge = randomFudge[:x//2]\n",
    "    genesB = randomFudge[:x//2]\n",
    "    DSE_ADJUSTED, relevantGenesBIndex = computeDSE(DATASET[0], DATASET[1], genesA, genesB)\n",
    "    ADJUSTED_DATASET = numpyAnalysis(DSE_ADJUSTED)\n",
    "    fractionImproved = fractionImprovedPValues(DATASET[5], ADJUSTED_DATASET[5], relevantGenesBIndex)\n",
    "    return fractionImproved"
   ]
  },
  {
   "cell_type": "code",
   "execution_count": 28,
   "metadata": {
    "collapsed": true
   },
   "outputs": [],
   "source": [
    "results = []\n",
    "for i in [8, 16, 32, 64, 128, 256, 512]:\n",
    "    results.append(check_DSE(i, QUANT_ADJUSTED))"
   ]
  },
  {
   "cell_type": "code",
   "execution_count": 29,
   "metadata": {},
   "outputs": [
    {
     "data": {
      "text/plain": [
       "[0.25, 0.375, 0.4375, 0.5625, 0.484375, 0.671875, 0.58984375]"
      ]
     },
     "execution_count": 29,
     "metadata": {},
     "output_type": "execute_result"
    }
   ],
   "source": [
    "results"
   ]
  },
  {
   "cell_type": "code",
   "execution_count": 30,
   "metadata": {
    "collapsed": true
   },
   "outputs": [],
   "source": [
    "resultsRev = []\n",
    "for i in [8, 16, 32, 64, 128, 256, 512]:\n",
    "    resultsRev.append(check_DSE(i, QUANT_ADJUSTED, reverse=True))"
   ]
  },
  {
   "cell_type": "code",
   "execution_count": 31,
   "metadata": {},
   "outputs": [
    {
     "data": {
      "text/plain": [
       "[0.25, 0.125, 0.0625, 0.1875, 0.03125, 0.1171875, 0.109375]"
      ]
     },
     "execution_count": 31,
     "metadata": {},
     "output_type": "execute_result"
    }
   ],
   "source": [
    "resultsRev"
   ]
  },
  {
   "cell_type": "code",
   "execution_count": 32,
   "metadata": {
    "collapsed": true
   },
   "outputs": [],
   "source": [
    "resultsRandom = {}\n",
    "testRange = [8, 16, 32, 64, 128, 256, 512]\n",
    "for i in testRange:\n",
    "    resultsRandom[i] = []\n",
    "for j in range(2):\n",
    "    for i in testRange:\n",
    "        res = check_DSE_random(i, QUANT_ADJUSTED)\n",
    "        resultsRandom[i].append(res)"
   ]
  },
  {
   "cell_type": "code",
   "execution_count": 33,
   "metadata": {
    "scrolled": true
   },
   "outputs": [
    {
     "data": {
      "text/plain": [
       "{8: [0.0, 0.0],\n",
       " 16: [0.25, 0.0],\n",
       " 32: [0.0625, 0.0],\n",
       " 64: [0.21875, 0.15625],\n",
       " 128: [0.171875, 0.21875],\n",
       " 256: [0.234375, 0.265625],\n",
       " 512: [0.25, 0.28125]}"
      ]
     },
     "execution_count": 33,
     "metadata": {},
     "output_type": "execute_result"
    }
   ],
   "source": [
    "resultsRandom"
   ]
  },
  {
   "cell_type": "markdown",
   "metadata": {},
   "source": [
    "# For ALL check which batch the data comes from:"
   ]
  },
  {
   "cell_type": "code",
   "execution_count": 34,
   "metadata": {
    "collapsed": true
   },
   "outputs": [],
   "source": [
    "index_to_batch = []\n",
    "if CEL_LOCATION.split(\"/\")[-1] == \"ALL\":\n",
    "    for file in CELFILES:\n",
    "        index_to_batch.append(file.split(\".\")[0].split(\"_\")[-1][0])"
   ]
  },
  {
   "cell_type": "markdown",
   "metadata": {},
   "source": [
    "# Write results to a file"
   ]
  },
  {
   "cell_type": "code",
   "execution_count": 35,
   "metadata": {
    "collapsed": true
   },
   "outputs": [],
   "source": [
    "import json\n",
    "with open(CEL_LOCATION + \"/results\", \"w\") as f:\n",
    "    json.dump({\n",
    "        \"QA\": computeBenjhoch(QUANT_ADJUSTED),\n",
    "        \"QA_raw\": [list(key) for key in np.transpose(QUANT_ADJUSTED[0])],\n",
    "        \"MODAL_ALLELE\": MODAL_ALLELE,\n",
    "        \"GENDER\" : SEX,\n",
    "        \"labels\": index_to_batch,\n",
    "        \"QA_P\" : computeP(QUANT_ADJUSTED),\n",
    "        \"NON_ADJUSTED\": computeBenjhoch(NON_ADJUSTED),\n",
    "        \"NON_ADJUSTED_P\": computeP(NON_ADJUSTED),\n",
    "        \"MEAN_ADJUSTED\": computeBenjhoch(MEAN_ADJUSTED),\n",
    "        \"MEAN_ADJUSTED_P\": computeP(MEAN_ADJUSTED),\n",
    "        \"results\" : results,\n",
    "        \"resultsRev\" : resultsRev,\n",
    "        \"resultsRandom\": resultsRandom\n",
    "    }, f)"
   ]
  }
 ],
 "metadata": {
  "anaconda-cloud": {},
  "kernelspec": {
   "display_name": "Python 3",
   "language": "python",
   "name": "python3"
  },
  "language_info": {
   "codemirror_mode": {
    "name": "ipython",
    "version": 3
   },
   "file_extension": ".py",
   "mimetype": "text/x-python",
   "name": "python",
   "nbconvert_exporter": "python",
   "pygments_lexer": "ipython3",
   "version": "3.6.2"
  }
 },
 "nbformat": 4,
 "nbformat_minor": 1
}
