{
 "cells": [
  {
   "cell_type": "code",
   "execution_count": 1,
   "metadata": {
    "collapsed": true
   },
   "outputs": [],
   "source": [
    "import os"
   ]
  },
  {
   "cell_type": "code",
   "execution_count": 2,
   "metadata": {},
   "outputs": [
    {
     "data": {
      "text/plain": [
       "['trans_clusters_into_probesets.ipynb',\n",
       " 'HuEx-1_0-st-v2.na36.hg19.probeset.csv',\n",
       " '.ipynb_checkpoints',\n",
       " 'Sepsis_vs_SIRS.ipynb',\n",
       " 'utils.py',\n",
       " 'huex.core.to.trans.id',\n",
       " 'PresentResults.ipynb',\n",
       " '.git',\n",
       " 'normalise.ipynb',\n",
       " 'Translating_IDs.ipynb',\n",
       " '__pycache__',\n",
       " 'CEL_files',\n",
       " 'annotated_probesets.csv']"
      ]
     },
     "execution_count": 2,
     "metadata": {},
     "output_type": "execute_result"
    }
   ],
   "source": [
    "os.listdir(\".\")"
   ]
  },
  {
   "cell_type": "code",
   "execution_count": 3,
   "metadata": {
    "collapsed": true
   },
   "outputs": [],
   "source": [
    "probeset_geneid = {}"
   ]
  },
  {
   "cell_type": "code",
   "execution_count": 4,
   "metadata": {},
   "outputs": [],
   "source": [
    "with open(\"annotated_probesets.csv\") as f:\n",
    "    for i, line in enumerate(f):\n",
    "        if i != 0:\n",
    "            line = line.strip().split(\"\\t\")\n",
    "            probeset_geneid[line[1]] = line[0]"
   ]
  },
  {
   "cell_type": "code",
   "execution_count": 5,
   "metadata": {
    "collapsed": true
   },
   "outputs": [],
   "source": [
    "def unquote(s):\n",
    "    if len(s) < 2:\n",
    "        return s\n",
    "    else:\n",
    "        if s[0] == '\"' and s[-1] == '\"':\n",
    "            return s[1:-1]\n",
    "    return s"
   ]
  },
  {
   "cell_type": "code",
   "execution_count": 6,
   "metadata": {},
   "outputs": [],
   "source": [
    "trans_gene_id = {}"
   ]
  },
  {
   "cell_type": "code",
   "execution_count": 7,
   "metadata": {},
   "outputs": [
    {
     "data": {
      "text/plain": [
       "1066120"
      ]
     },
     "execution_count": 7,
     "metadata": {},
     "output_type": "execute_result"
    }
   ],
   "source": [
    "counter = 0\n",
    "with open(\"HuEx-1_0-st-v2.na36.hg19.probeset.csv\") as f:\n",
    "    for i, line in enumerate(f):\n",
    "        if i < 24:\n",
    "            pass\n",
    "        else:\n",
    "            line = line.rstrip().split(\",\")\n",
    "            line = [unquote(i) for i in line]\n",
    "            probeset_id, transcription_id = line[0], line[6]\n",
    "            try:\n",
    "                trans_gene_id[transcription_id] = probeset_geneid[probeset_id]\n",
    "            except:\n",
    "                counter += 1\n",
    "counter"
   ]
  },
  {
   "cell_type": "code",
   "execution_count": 8,
   "metadata": {},
   "outputs": [],
   "source": [
    "with open(\"huex.core.to.trans.id\", \"w\") as f:\n",
    "    for key, value in trans_gene_id.items():\n",
    "        f.write(key + \", \" + value + \"\\n\")\n",
    "    "
   ]
  },
  {
   "cell_type": "code",
   "execution_count": 9,
   "metadata": {},
   "outputs": [
    {
     "data": {
      "text/plain": [
       "'CDC20'"
      ]
     },
     "execution_count": 9,
     "metadata": {},
     "output_type": "execute_result"
    }
   ],
   "source": [
    "trans_gene_id[\"2333136\"]"
   ]
  }
 ],
 "metadata": {
  "kernelspec": {
   "display_name": "Python 3",
   "language": "python",
   "name": "python3"
  },
  "language_info": {
   "codemirror_mode": {
    "name": "ipython",
    "version": 3
   },
   "file_extension": ".py",
   "mimetype": "text/x-python",
   "name": "python",
   "nbconvert_exporter": "python",
   "pygments_lexer": "ipython3",
   "version": "3.6.2"
  }
 },
 "nbformat": 4,
 "nbformat_minor": 2
}
